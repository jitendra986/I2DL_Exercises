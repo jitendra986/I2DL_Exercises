{
 "cells": [
  {
   "cell_type": "markdown",
   "metadata": {},
   "source": [
    "# Cifar10 Classification"
   ]
  },
  {
   "cell_type": "markdown",
   "metadata": {},
   "source": [
    "Until now, we have implemented several pieces of a deep learning pipeline and even trained a two-layer neural network, but all the hyperparameters were already set to some values yielding resonable results. In real-life problems, however, much of the work in a deep learning project will be geared towards finding the best hyperparameters for a certain problem. In this notebook we will explore some good practices for network debugging and hyperparameters search, as well as extending our previously binary classification neural network to a multi-class one.\n",
    "\n",
    "Let's go!"
   ]
  },
  {
   "cell_type": "code",
   "execution_count": 1,
   "metadata": {},
   "outputs": [],
   "source": [
    "# Some lengthy setup.\n",
    "import matplotlib.pyplot as plt\n",
    "import numpy as np\n",
    "import os\n",
    "\n",
    "from exercise_code.networks.layer import (\n",
    "    Sigmoid, \n",
    "    Relu, \n",
    "    LeakyRelu, \n",
    "    Tanh,\n",
    ")\n",
    "from exercise_code.data import (\n",
    "    DataLoader,\n",
    "    ImageFolderDataset,\n",
    "    RescaleTransform,\n",
    "    NormalizeTransform,\n",
    "    FlattenTransform,\n",
    "    ComposeTransform,\n",
    ")\n",
    "from exercise_code.networks import (\n",
    "    ClassificationNet,\n",
    "    BCE,\n",
    "    CrossEntropyFromLogits\n",
    ")\n",
    "\n",
    "%load_ext autoreload\n",
    "%autoreload 2\n",
    "%matplotlib inline\n",
    "\n",
    "plt.rcParams['figure.figsize'] = (10.0, 8.0) # set default size of plots\n",
    "plt.rcParams['image.interpolation'] = 'nearest'\n",
    "plt.rcParams['image.cmap'] = 'gray'"
   ]
  },
  {
   "cell_type": "markdown",
   "metadata": {},
   "source": [
    "# 1. Quick recap (and some new things)"
   ]
  },
  {
   "cell_type": "markdown",
   "metadata": {},
   "source": [
    "Until now, in the previous exercises, we focused on building and understanding all the necessary modules for training a simple model. We followed the Pytorch implementations closely, as this is the framework we will use later and we want you to have a smoother transition to its APIs. \n",
    "\n",
    "In the figure below you can see the main components in Pytorch. Before starting the actual exercise, we begin with a quick recap of **our implementation** of these components. \n",
    "\n",
    "Everything is already implemented for this part, but we **strongly** encourage you to check out the respective source files in order to have a better understanding."
   ]
  },
  {
   "cell_type": "markdown",
   "metadata": {},
   "source": [
    "<img src=\"https://cdn-images-1.medium.com/max/800/1*uZrS4KjAuSJQIJPgOiaJUg.png\" style=\"width: 500px;\">"
   ]
  },
  {
   "cell_type": "markdown",
   "metadata": {},
   "source": [
    "## 1.1 Dataset and Dataloader"
   ]
  },
  {
   "cell_type": "markdown",
   "metadata": {},
   "source": [
    "Data preparation represents an important part of deep learning projects. The data comes from different sources and in different formats and is prepared differently from application to application. One part, however, is clear: because entire datasets are usually too large for us to handle at once, we train our models on smaller batches of data. \n",
    "\n",
    "The goal of the ```Dataset``` class is to encapsulate all the 'dirty' data processing: loading and cleaning the data, storing features (or names of files where features can be found) and labels, as well as providing the means for accessing individual (transformed) items of the data using the ```__getitem__()``` function and an index. You already implemented an ```ImageFolderDataset``` (in ```exercise_code/data/image_folder_dataset.py```) class in Exercise 3. We we will reuse this class here.\n",
    "\n",
    "For processing the data, you implemented several transforms in Exercise 3 (```RescaleTransform```, ```NormalizeTransform```, ```ComposeTransform```). In this exercise we are working with images, which are multidimensional arrays, but we are using simple feedforward neural network which takes a one dimensional array as an input, so it is necessary to reshape the images before feeding them into the model. We implemented this reshape operation for you in the ```FlattenTransform``` class, also found in ```exercise_code/data/image_folder_dataset.py```."
   ]
  },
  {
   "cell_type": "code",
   "execution_count": 2,
   "metadata": {},
   "outputs": [],
   "source": [
    "download_url = \"https://cdn3.vision.in.tum.de/~dl4cv/cifar10.zip\"\n",
    "i2dl_exercises_path = os.path.dirname(os.path.abspath(os.getcwd()))\n",
    "cifar_root = os.path.join(i2dl_exercises_path, \"datasets\", \"cifar10\")\n",
    "\n",
    "# Use the Cifar10 mean and standard deviation computed in Exercise 3.\n",
    "cifar_mean = np.array([0.49191375, 0.48235852, 0.44673872])\n",
    "cifar_std  = np.array([0.24706447, 0.24346213, 0.26147554])\n",
    "\n",
    "# Define all the transforms we will apply on the images when \n",
    "# retrieving them.\n",
    "rescale_transform = RescaleTransform()\n",
    "normalize_transform = NormalizeTransform(\n",
    "    mean=cifar_mean,\n",
    "    std=cifar_std\n",
    ")\n",
    "flatten_transform = FlattenTransform()\n",
    "compose_transform = ComposeTransform([rescale_transform, \n",
    "                                      normalize_transform,\n",
    "                                      flatten_transform])\n",
    "\n",
    "# Create a train, validation and test dataset.\n",
    "datasets = {}\n",
    "for mode in ['train', 'val', 'test']:\n",
    "    crt_dataset = ImageFolderDataset(\n",
    "        mode=mode,\n",
    "        root=cifar_root, \n",
    "        download_url=download_url,\n",
    "        transform=compose_transform,\n",
    "        #split={'train': 0.6, 'val': 0.2, 'test': 0.2}\n",
    "        split={'train': 0.96, 'val': 0.02, 'test': 0.02}\n",
    "    )\n",
    "    datasets[mode] = crt_dataset"
   ]
  },
  {
   "cell_type": "markdown",
   "metadata": {},
   "source": [
    "Then, based on this ```Dataset``` object, we can construct a ```Dataloader``` object which samples a random mini-batch of data at once. "
   ]
  },
  {
   "cell_type": "code",
   "execution_count": 3,
   "metadata": {},
   "outputs": [],
   "source": [
    "# Create a dataloader for each split.\n",
    "dataloaders = {}\n",
    "for mode in ['train', 'val', 'test']:\n",
    "    crt_dataloader = DataLoader(\n",
    "        dataset=datasets[mode],\n",
    "        #batch_size=256,\n",
    "        batch_size=100,\n",
    "        shuffle=True,\n",
    "        #drop_last=True,\n",
    "        drop_last=False,\n",
    "    )\n",
    "    dataloaders[mode] = crt_dataloader"
   ]
  },
  {
   "cell_type": "markdown",
   "metadata": {},
   "source": [
    "Because the ```Dataloader``` has the ```__iter__()``` method, we can simply iterate through the batches it produces, like this:\n",
    "\n",
    "```python\n",
    "for batch in dataloader['train']:\n",
    "    do_something(batch)\n",
    "```"
   ]
  },
  {
   "cell_type": "markdown",
   "metadata": {},
   "source": [
    "## 1.2 Model"
   ]
  },
  {
   "cell_type": "markdown",
   "metadata": {},
   "source": [
    "Now, that the data is prepared, we can discuss the model in which we are feeding the data, which in our case will be a neural network. \n",
    "\n",
    "In Exercise 5, you implemented a simple 2-layer neural network that had a hidden size as a parameter:\n",
    "\n",
    "$$ \n",
    "{\\hat{y}} = \\sigma(\\sigma({x W_1} + {b_1}) {W_2} + {b_2}) \n",
    "$$\n",
    "\n",
    "where $ \\sigma({x}) $ was the sigmoid function, $ {x} $ was the input, $ {W_1}, {W_2} $ the weight matrices and $ {b_1}, {b_2}$ the biases for the two layers.\n",
    "\n",
    "This is how we used this network:"
   ]
  },
  {
   "cell_type": "code",
   "execution_count": 4,
   "metadata": {},
   "outputs": [],
   "source": [
    "input_size = datasets['train'][0]['image'].shape[0]\n",
    "model = ClassificationNet(input_size=input_size, \n",
    "                          hidden_size=512)"
   ]
  },
  {
   "cell_type": "markdown",
   "metadata": {},
   "source": [
    "Note that we updated the ```ClassificationNet``` from the previous exercise, so that now you can customize more: the number of outputs, the choice of activation function, the hidden size etc. We encourage you to check out the implementation in ```exercise_code/networks/classification_net.py``` "
   ]
  },
  {
   "cell_type": "code",
   "execution_count": 5,
   "metadata": {},
   "outputs": [],
   "source": [
    "num_layer = 2\n",
    "reg = 0.1\n",
    "\n",
    "model = ClassificationNet(activation=Sigmoid(), \n",
    "                          num_layer=num_layer, \n",
    "                          reg=reg,\n",
    "                          num_classes=10)"
   ]
  },
  {
   "cell_type": "markdown",
   "metadata": {},
   "source": [
    "Then, the forward and backward passes through the model were simply:\n",
    "\n",
    "```python\n",
    "\n",
    "# X is a batch of training features \n",
    "# X.shape = (batch_size, features_size)\n",
    "y_out = model.forward(X)\n",
    "\n",
    "# dout is the gradient of the loss function w.r.t the output of the network.\n",
    "# dout.shape = (batch_size, )\n",
    "model.backward(dout)\n",
    "```"
   ]
  },
  {
   "cell_type": "markdown",
   "metadata": {},
   "source": [
    "Just as the learning rate or the number of iterations we want to train for, the number of hidden layers and the number of units in each hidden layer are also hyperparameters. In this notebook you will play with networks of different sizes and will see the impact that the network capacity has."
   ]
  },
  {
   "cell_type": "markdown",
   "metadata": {},
   "source": [
    "## 1.3 Loss"
   ]
  },
  {
   "cell_type": "markdown",
   "metadata": {},
   "source": [
    "In order to measure how well a network is performing, we implemented several ```Loss``` classes (```L1```, ```MSE```, ```BCE```, each preferred for a certain type of problems) in ```exercise_code/networks/loss.py```.\n",
    "\n",
    "Each implemented a ```forward()``` method, which outputs a number that we use as a proxy for our network performance. \n",
    "\n",
    "Also, because our goal was to change the weights of the network such that this loss measure decreases, we were also interested in the gradients of the loss w.r.t the outputs of the network, $ \\nabla_{\\hat{y}} L({\\hat{y}}, {y}) $. This was implemented in ```backward()```. \n",
    "\n",
    "In previous exercises, we only worked with binary classification and used binary cross entropy (```BCE```) as a loss function.\n",
    "\n",
    "$$ BCE(\\hat{y}, y) = \\frac{1}{N} \\sum_{i=1}^N \\Big [-y_i \\log(\\hat{y_i}) - (1-y_i) \\log(1 - \\hat{y_i}) \\Big] $$ \n",
    "\n",
    "where\n",
    "- $ N $ was the number of samples we were considering\n",
    "- $\\hat{y}_i$ was the network's prediction for sample $i$. Note that this was a valid probability $\\in [0, 1]$, because we applied a [sigmoid](https://en.wikipedia.org/wiki/Sigmoid_function) activation on the last layer. \n",
    "- $ y_i $ was the ground truth label (0 or 1, depending on the class)\n",
    "\n",
    "Because we have 10 classes in the CIFAR10 dataset, we need a generalization of the binary cross entropy for multiple classes. This is simply called the cross entropy loss and has the following definition:\n",
    "\n",
    "$$ CE(\\hat{y}, y) = \\frac{1}{N} \\sum_{i=1}^N \\sum_{k=1}^{C} \\Big[ -y_{ik} \\log(\\hat{y}_{ik}) \\Big] $$\n",
    "\n",
    "where:\n",
    "- $ N $ is again the number of samples\n",
    "- $ C $ is the number of classes\n",
    "- $ \\hat{y}_{ik} $ is the probability that the model assigns for the $k$th class when the $i$th sample is the input. **Because we don't apply any activation function on the last layer of our network, its outputs for each sample will not be a valid probability distribution over the classes. We call these raw outputs of the network '[logits](https://datascience.stackexchange.com/questions/31041/what-does-logits-in-machine-learning-mean/31045)' and we will apply a [softmax](https://en.wikipedia.org/wiki/Softmax_function) activation in order to obtain a valid probability distribution.** \n",
    "- $y_{ik} = 1 $ iff the true label of the $i$th sample is $k$ and 0 otherwise. This is called a [one-hot encoding](https://machinelearningmastery.com/why-one-hot-encode-data-in-machine-learning/).\n",
    "\n",
    "You can check for yourself that when the number of classes $ C $ is 2, then the binary cross entropy is actually equivalent to the cross entropy.\n",
    "\n",
    "We have already implemented the ```CrossEntropyFromLogits``` for you. You can check it out in ```exercise_code/networks/loss.py ```"
   ]
  },
  {
   "cell_type": "code",
   "execution_count": 6,
   "metadata": {},
   "outputs": [],
   "source": [
    "loss = CrossEntropyFromLogits()"
   ]
  },
  {
   "cell_type": "markdown",
   "metadata": {},
   "source": [
    "Just as with the previous losses we have seen, we can simply get the results of the forward and backward passes as follows:"
   ]
  },
  {
   "cell_type": "markdown",
   "metadata": {},
   "source": [
    "```python\n",
    "# y_out is the output of the neural network\n",
    "# y_truth is the actual label from the dataset\n",
    "loss.forward(y_out, y_truth)\n",
    "loss.backward(y_out, y_truth)\n",
    "```"
   ]
  },
  {
   "cell_type": "markdown",
   "metadata": {},
   "source": [
    "## 1.4 Optimizer"
   ]
  },
  {
   "cell_type": "markdown",
   "metadata": {},
   "source": [
    "Now, knowing the gradient of the loss w.r.t the ouputs of the network, as well as the local gradient for each layer of the network, we can use the chain rule to compute all gradients. \n",
    "\n",
    "We implemented several optimizer classes (```SGD```, ```Adam```, ```sgd_momentum```, which you can check out in ```exercise_code/networks/optimizer.py```) that implement different first-order parameter update rules. The ```step()``` method iterates through all the parameters of a model and updates them using the gradient information.\n",
    "\n",
    "What the optimizer is doing, in pseudocode, is the following:\n",
    "\n",
    "```python\n",
    "for param in model:\n",
    "    # Use the gradient to update the weights.\n",
    "    update(param)\n",
    "    \n",
    "    # Reset the gradient after each update.\n",
    "    param.gradient = 0\n",
    "```\n",
    "\n",
    "```SGD``` had the simplest update rule:\n",
    "```python\n",
    "def update(param):\n",
    "    param = param - learning_rate * param.gradient\n",
    "```\n",
    "\n",
    "For the more complicated update rules, see ```exercise_code/networks/optimizer.py```"
   ]
  },
  {
   "cell_type": "markdown",
   "metadata": {},
   "source": [
    "## 1.5 Solver"
   ]
  },
  {
   "cell_type": "markdown",
   "metadata": {},
   "source": [
    "The ```Solver``` is where all the above elements come together: given a train and a validation dataloader, a model, a loss and an optimizer, it uses the training data to optimize a model in order to get better predictions. We simply call ```train()``` and it does its 'magic' for us!\n",
    "```python\n",
    "solver = Solver(model, \n",
    "                dataloaders['train'], \n",
    "                dataloaders['val'], \n",
    "                learning_rate=0.001, \n",
    "                loss_func=MSE(), \n",
    "                optimizer=SGD)\n",
    "\n",
    "solver.train(epochs=epochs)\n",
    "```\n",
    "\n",
    "In order to see, that there is no actual 'magic' check out its implementation in ```exercise_code/solver.py``` ;)."
   ]
  },
  {
   "cell_type": "markdown",
   "metadata": {},
   "source": [
    "# 2. An overview of hyperparameters"
   ]
  },
  {
   "cell_type": "markdown",
   "metadata": {
    "collapsed": true
   },
   "source": [
    "\n",
    "<img src=https://images.deepai.org/glossary-terms/05c646fe1676490aa0b8cab0732a02b2/hyperparams.png alt=hyperparameter width=700>\n",
    "\n",
    "A **hyperparameter** is a parameter that is set before the learning process begins. Recall that the parameters of weight matrix and bias vector are learned during the learning process.\n",
    "\n",
    "The hyperparameters are essential, for they control and affect the whole training and have a great impact on the performance of the model. \n",
    "\n",
    "Some examples of hyperparameters we have covered in lectures:\n",
    "* Network architecture\n",
    "    * Choice of activation function\n",
    "    * Number of layers\n",
    "    * ...\n",
    "* Learning rate\n",
    "* Number of epochs\n",
    "* Batch size\n",
    "* Regularization strength\n",
    "* Momentum\n",
    "* ..."
   ]
  },
  {
   "cell_type": "markdown",
   "metadata": {},
   "source": [
    "## Start debugging your own network!"
   ]
  },
  {
   "cell_type": "markdown",
   "metadata": {},
   "source": [
    "As already suggested in the lectures, you may always want to start from small and simple architectures, to make sure you are going the right way. \n",
    "\n",
    "First you may need to overfit a single training sample, then a few batches of training samples, then go deeper with larger neural networks and the whole training data.\n",
    "\n",
    "Here we always provide a default neural network (i.e. ClassificationNet) with arbitrary number of layers, which is a generalization from a fixed 2-layer neural network in exercise 5. You are welcome to implement your own network, in that case just implement **MyOwnNetwork** in ```exercise_code/networks/classification_net.py```. You can also copy things from ClassficationNet and make a little adjustment to your own network. For either way, just pick a network and comment out the other one, then run the cells below for debugging.\n",
    "\n",
    "__Note__: \n",
    "- Please, make sure you don't modify the ClassificationNet itself so that you can always have a working network to fall back on\n",
    "- In order to pass this submissions, you can **first stick to the default ClassificationNet implementation without changing any code at all**. The goal of this submission is to find reasonable hyperparameters and the parameter options of the ClassificationNet are broad enough.\n",
    "- Once you have surpassed the submission goal, you can try to implement additional activation functions in the accompanying notebook, try different weight initializations or other adjustments by writing your own network architecture in the MyOwnNetwork class."
   ]
  },
  {
   "cell_type": "markdown",
   "metadata": {},
   "source": [
    "First, let's begin with a 2-layer neural network, and overfit one single training sample.\n",
    "\n",
    "After training, let's evaluate the training process by plotting the loss curves."
   ]
  },
  {
   "cell_type": "code",
   "execution_count": 7,
   "metadata": {},
   "outputs": [
    {
     "name": "stdout",
     "output_type": "stream",
     "text": [
      "(Epoch 1 / 20) train loss: 2.332298; val loss: 2.333434\n",
      "(Epoch 2 / 20) train loss: 2.332298; val loss: 2.321147\n",
      "(Epoch 3 / 20) train loss: 2.207704; val loss: 2.329631\n",
      "(Epoch 4 / 20) train loss: 2.063199; val loss: 2.353444\n",
      "(Epoch 5 / 20) train loss: 1.897424; val loss: 2.384609\n",
      "(Epoch 6 / 20) train loss: 1.729806; val loss: 2.415315\n",
      "(Epoch 7 / 20) train loss: 1.572151; val loss: 2.440568\n",
      "(Epoch 8 / 20) train loss: 1.425705; val loss: 2.459068\n",
      "(Epoch 9 / 20) train loss: 1.288198; val loss: 2.472408\n",
      "(Epoch 10 / 20) train loss: 1.157970; val loss: 2.483585\n",
      "(Epoch 11 / 20) train loss: 1.034278; val loss: 2.495490\n",
      "(Epoch 12 / 20) train loss: 0.918172; val loss: 2.510058\n",
      "(Epoch 13 / 20) train loss: 0.811920; val loss: 2.528006\n",
      "(Epoch 14 / 20) train loss: 0.717184; val loss: 2.549076\n",
      "(Epoch 15 / 20) train loss: 0.633949; val loss: 2.572525\n",
      "(Epoch 16 / 20) train loss: 0.561114; val loss: 2.597548\n",
      "(Epoch 17 / 20) train loss: 0.497982; val loss: 2.623575\n",
      "(Epoch 18 / 20) train loss: 0.444226; val loss: 2.650372\n",
      "(Epoch 19 / 20) train loss: 0.398835; val loss: 2.677988\n",
      "(Epoch 20 / 20) train loss: 0.360317; val loss: 2.706603\n"
     ]
    }
   ],
   "source": [
    "from exercise_code.solver import Solver\n",
    "from exercise_code.networks.optimizer import SGD, Adam, sgd_momentum\n",
    "from exercise_code.networks import MyOwnNetwork\n",
    "\n",
    "num_layer = 2\n",
    "epochs = 20\n",
    "reg = 0.1\n",
    "batch_size = 4\n",
    "\n",
    "model = ClassificationNet(num_layer=num_layer, reg=reg)\n",
    "# model = MyOwnNetwork()\n",
    "\n",
    "loss = CrossEntropyFromLogits()\n",
    "\n",
    "# Make a new data loader with a single training image\n",
    "overfit_dataset = ImageFolderDataset(\n",
    "    mode='train',\n",
    "    root=cifar_root, \n",
    "    download_url=download_url,\n",
    "    transform=compose_transform,\n",
    "    limit_files=1\n",
    ")\n",
    "dataloaders['train_overfit_single_image'] = DataLoader(\n",
    "    dataset=overfit_dataset,\n",
    "    batch_size=batch_size,\n",
    "    shuffle=True,\n",
    "    drop_last=False,\n",
    ")\n",
    "\n",
    "# Decrease validation data for only debugging\n",
    "debugging_validation_dataset = ImageFolderDataset(\n",
    "    mode='val',\n",
    "    root=cifar_root, \n",
    "    download_url=download_url,\n",
    "    transform=compose_transform,\n",
    "    limit_files=100\n",
    ")\n",
    "dataloaders['val_500files'] = DataLoader(\n",
    "    dataset=debugging_validation_dataset,\n",
    "    batch_size=batch_size,\n",
    "    shuffle=True,\n",
    "    drop_last=True,\n",
    ")\n",
    "\n",
    "solver = Solver(model, dataloaders['train_overfit_single_image'], dataloaders['val_500files'], \n",
    "                learning_rate=1e-3, loss_func=loss, optimizer=Adam)\n",
    "\n",
    "solver.train(epochs=epochs)"
   ]
  },
  {
   "cell_type": "code",
   "execution_count": 8,
   "metadata": {},
   "outputs": [
    {
     "data": {
      "image/png": "[encoded data removed]",
      "text/plain": [
       "<Figure size 432x288 with 1 Axes>"
      ]
     },
     "metadata": {
      "needs_background": "light"
     },
     "output_type": "display_data"
    }
   ],
   "source": [
    "plt.title('Loss curves')\n",
    "plt.plot(solver.train_loss_history, '-', label='train')\n",
    "plt.plot(solver.val_loss_history, '-', label='val')\n",
    "plt.legend(loc='lower right')\n",
    "plt.xlabel('Iteration')\n",
    "plt.show()"
   ]
  },
  {
   "cell_type": "code",
   "execution_count": 9,
   "metadata": {},
   "outputs": [
    {
     "name": "stdout",
     "output_type": "stream",
     "text": [
      "Training accuray: 1.00000\n",
      "Validation accuray: 0.07000\n"
     ]
    }
   ],
   "source": [
    "print(\"Training accuray: %.5f\" % (solver.get_dataset_accuracy(dataloaders['train_overfit_single_image'])))\n",
    "print(\"Validation accuray: %.5f\" % (solver.get_dataset_accuracy(dataloaders['val_500files'])))"
   ]
  },
  {
   "cell_type": "markdown",
   "metadata": {},
   "source": [
    "This time let's try to overfit to a small set of training batch samples. Please observe the difference from above. "
   ]
  },
  {
   "cell_type": "code",
   "execution_count": 10,
   "metadata": {},
   "outputs": [
    {
     "name": "stdout",
     "output_type": "stream",
     "text": [
      "(Epoch 1 / 100) train loss: 2.331938; val loss: 2.334331\n",
      "(Epoch 2 / 100) train loss: 2.325609; val loss: 2.337541\n",
      "(Epoch 3 / 100) train loss: 2.207519; val loss: 2.391639\n",
      "(Epoch 4 / 100) train loss: 2.048381; val loss: 2.439445\n",
      "(Epoch 5 / 100) train loss: 2.048479; val loss: 2.522273\n",
      "(Epoch 6 / 100) train loss: 1.925998; val loss: 2.566617\n",
      "(Epoch 7 / 100) train loss: 1.857588; val loss: 2.628791\n",
      "(Epoch 8 / 100) train loss: 1.725757; val loss: 2.711391\n",
      "(Epoch 9 / 100) train loss: 1.752357; val loss: 2.795958\n",
      "(Epoch 10 / 100) train loss: 1.810925; val loss: 2.842225\n",
      "(Epoch 11 / 100) train loss: 1.718056; val loss: 2.855684\n",
      "(Epoch 12 / 100) train loss: 1.646908; val loss: 2.979115\n",
      "(Epoch 13 / 100) train loss: 1.625130; val loss: 3.089495\n",
      "(Epoch 14 / 100) train loss: 1.672408; val loss: 3.119818\n",
      "(Epoch 15 / 100) train loss: 1.598648; val loss: 3.084452\n",
      "(Epoch 16 / 100) train loss: 1.674407; val loss: 3.100027\n",
      "(Epoch 17 / 100) train loss: 1.714083; val loss: 3.168348\n",
      "(Epoch 18 / 100) train loss: 1.656148; val loss: 3.252408\n",
      "(Epoch 19 / 100) train loss: 1.739993; val loss: 3.245475\n",
      "(Epoch 20 / 100) train loss: 1.561257; val loss: 3.253790\n",
      "(Epoch 21 / 100) train loss: 1.540376; val loss: 3.314405\n",
      "(Epoch 22 / 100) train loss: 1.646614; val loss: 3.308773\n",
      "(Epoch 23 / 100) train loss: 1.581151; val loss: 3.302904\n",
      "(Epoch 24 / 100) train loss: 1.422976; val loss: 3.371343\n",
      "(Epoch 25 / 100) train loss: 1.562293; val loss: 3.425782\n",
      "(Epoch 26 / 100) train loss: 1.647568; val loss: 3.397219\n",
      "(Epoch 27 / 100) train loss: 1.467402; val loss: 3.377734\n",
      "(Epoch 28 / 100) train loss: 1.495070; val loss: 3.354369\n",
      "(Epoch 29 / 100) train loss: 1.588650; val loss: 3.382466\n",
      "(Epoch 30 / 100) train loss: 1.483492; val loss: 3.407889\n",
      "(Epoch 31 / 100) train loss: 1.515264; val loss: 3.393643\n",
      "(Epoch 32 / 100) train loss: 1.466285; val loss: 3.401993\n",
      "(Epoch 33 / 100) train loss: 1.423159; val loss: 3.425434\n",
      "(Epoch 34 / 100) train loss: 1.400972; val loss: 3.430258\n",
      "(Epoch 35 / 100) train loss: 1.348053; val loss: 3.429814\n",
      "(Epoch 36 / 100) train loss: 1.329759; val loss: 3.433689\n",
      "(Epoch 37 / 100) train loss: 1.288834; val loss: 3.455196\n",
      "(Epoch 38 / 100) train loss: 1.348734; val loss: 3.464836\n",
      "(Epoch 39 / 100) train loss: 1.260980; val loss: 3.498036\n",
      "(Epoch 40 / 100) train loss: 1.358767; val loss: 3.473409\n",
      "(Epoch 41 / 100) train loss: 1.390493; val loss: 3.433425\n",
      "(Epoch 42 / 100) train loss: 1.292045; val loss: 3.491149\n",
      "(Epoch 43 / 100) train loss: 1.268652; val loss: 3.539978\n",
      "(Epoch 44 / 100) train loss: 1.330824; val loss: 3.513853\n",
      "(Epoch 45 / 100) train loss: 1.287729; val loss: 3.509725\n",
      "(Epoch 46 / 100) train loss: 1.290267; val loss: 3.519821\n",
      "(Epoch 47 / 100) train loss: 1.172291; val loss: 3.522474\n",
      "(Epoch 48 / 100) train loss: 1.195694; val loss: 3.491398\n",
      "(Epoch 49 / 100) train loss: 1.170439; val loss: 3.480601\n",
      "(Epoch 50 / 100) train loss: 1.119711; val loss: 3.482389\n",
      "(Epoch 51 / 100) train loss: 1.257560; val loss: 3.513039\n",
      "(Epoch 52 / 100) train loss: 1.181583; val loss: 3.600747\n",
      "(Epoch 53 / 100) train loss: 1.283340; val loss: 3.644795\n",
      "(Epoch 54 / 100) train loss: 1.265615; val loss: 3.624526\n",
      "(Epoch 55 / 100) train loss: 1.159158; val loss: 3.576834\n",
      "(Epoch 56 / 100) train loss: 1.182414; val loss: 3.551872\n",
      "(Epoch 57 / 100) train loss: 1.105850; val loss: 3.560429\n",
      "(Epoch 58 / 100) train loss: 1.130616; val loss: 3.571432\n",
      "(Epoch 59 / 100) train loss: 1.134558; val loss: 3.574873\n",
      "(Epoch 60 / 100) train loss: 1.027422; val loss: 3.568672\n",
      "(Epoch 61 / 100) train loss: 1.027777; val loss: 3.541614\n",
      "(Epoch 62 / 100) train loss: 1.071632; val loss: 3.526807\n",
      "(Epoch 63 / 100) train loss: 1.000724; val loss: 3.545189\n",
      "(Epoch 64 / 100) train loss: 1.001871; val loss: 3.569452\n",
      "(Epoch 65 / 100) train loss: 1.005035; val loss: 3.568322\n",
      "(Epoch 66 / 100) train loss: 1.012345; val loss: 3.581639\n",
      "(Epoch 67 / 100) train loss: 1.031481; val loss: 3.623874\n",
      "(Epoch 68 / 100) train loss: 1.022743; val loss: 3.655385\n",
      "(Epoch 69 / 100) train loss: 1.002597; val loss: 3.638895\n",
      "(Epoch 70 / 100) train loss: 1.047481; val loss: 3.595655\n",
      "(Epoch 71 / 100) train loss: 1.074237; val loss: 3.591181\n",
      "(Epoch 72 / 100) train loss: 1.023344; val loss: 3.627247\n",
      "(Epoch 73 / 100) train loss: 0.985536; val loss: 3.649597\n",
      "(Epoch 74 / 100) train loss: 0.956673; val loss: 3.626058\n",
      "(Epoch 75 / 100) train loss: 0.953968; val loss: 3.563884\n",
      "(Epoch 76 / 100) train loss: 0.932819; val loss: 3.543700\n",
      "(Epoch 77 / 100) train loss: 0.907463; val loss: 3.561685\n",
      "(Epoch 78 / 100) train loss: 0.920114; val loss: 3.581150\n",
      "(Epoch 79 / 100) train loss: 0.902032; val loss: 3.603120\n",
      "(Epoch 80 / 100) train loss: 0.899427; val loss: 3.566424\n",
      "(Epoch 81 / 100) train loss: 0.928899; val loss: 3.577112\n",
      "(Epoch 82 / 100) train loss: 0.924480; val loss: 3.587221\n",
      "(Epoch 83 / 100) train loss: 0.964044; val loss: 3.580696\n",
      "(Epoch 84 / 100) train loss: 0.874808; val loss: 3.583204\n",
      "(Epoch 85 / 100) train loss: 0.938830; val loss: 3.587788\n",
      "(Epoch 86 / 100) train loss: 0.853180; val loss: 3.594803\n",
      "(Epoch 87 / 100) train loss: 0.909091; val loss: 3.579225\n",
      "(Epoch 88 / 100) train loss: 0.899377; val loss: 3.540678\n",
      "(Epoch 89 / 100) train loss: 0.877273; val loss: 3.561657\n",
      "(Epoch 90 / 100) train loss: 0.851209; val loss: 3.592029\n",
      "(Epoch 91 / 100) train loss: 0.860576; val loss: 3.592714\n",
      "(Epoch 92 / 100) train loss: 0.917568; val loss: 3.586197\n",
      "(Epoch 93 / 100) train loss: 0.916384; val loss: 3.648954\n",
      "(Epoch 94 / 100) train loss: 1.027391; val loss: 3.628603\n",
      "(Epoch 95 / 100) train loss: 0.898212; val loss: 3.659187\n",
      "(Epoch 96 / 100) train loss: 0.937496; val loss: 3.673554\n",
      "(Epoch 97 / 100) train loss: 0.982593; val loss: 3.657673\n",
      "(Epoch 98 / 100) train loss: 0.895751; val loss: 3.655952\n",
      "(Epoch 99 / 100) train loss: 0.840275; val loss: 3.596174\n",
      "(Epoch 100 / 100) train loss: 0.906998; val loss: 3.558889\n"
     ]
    }
   ],
   "source": [
    "from exercise_code.networks import MyOwnNetwork\n",
    "\n",
    "num_layer = 2\n",
    "epochs = 100\n",
    "reg = 0.1\n",
    "num_samples = 10\n",
    "\n",
    "model = ClassificationNet(num_layer=num_layer, reg=reg)\n",
    "# model = MyOwnNetwork()\n",
    "\n",
    "loss = CrossEntropyFromLogits()\n",
    "\n",
    "# Make a new data loader with a our num_samples training image\n",
    "overfit_dataset = ImageFolderDataset(\n",
    "    mode='train',\n",
    "    root=cifar_root, \n",
    "    download_url=download_url,\n",
    "    transform=compose_transform,\n",
    "    limit_files=num_samples\n",
    ")\n",
    "dataloaders['train_overfit_10samples'] = DataLoader(\n",
    "    dataset=overfit_dataset,\n",
    "    batch_size=batch_size,\n",
    "    shuffle=True,\n",
    "    drop_last=False,\n",
    ")\n",
    "\n",
    "solver = Solver(model, dataloaders['train_overfit_10samples'], dataloaders['val_500files'], \n",
    "                learning_rate=1e-3, loss_func=loss, optimizer=Adam)\n",
    "\n",
    "solver.train(epochs=epochs)"
   ]
  },
  {
   "cell_type": "code",
   "execution_count": 11,
   "metadata": {},
   "outputs": [
    {
     "data": {
      "image/png": "[encoded data removed]",
      "text/plain": [
       "<Figure size 432x288 with 1 Axes>"
      ]
     },
     "metadata": {
      "needs_background": "light"
     },
     "output_type": "display_data"
    }
   ],
   "source": [
    "plt.title('Loss curves')\n",
    "plt.plot(solver.train_loss_history, '-', label='train')\n",
    "plt.plot(solver.val_loss_history, '-', label='val')\n",
    "plt.legend(loc='lower right')\n",
    "plt.xlabel('Iteration')\n",
    "plt.show()"
   ]
  },
  {
   "cell_type": "code",
   "execution_count": 12,
   "metadata": {},
   "outputs": [
    {
     "name": "stdout",
     "output_type": "stream",
     "text": [
      "Training accuray: 1.00000\n",
      "Validation accuray: 0.06000\n"
     ]
    }
   ],
   "source": [
    "print(\"Training accuray: %.5f\" % (solver.get_dataset_accuracy(dataloaders['train_overfit_10samples'])))\n",
    "print(\"Validation accuray: %.5f\" % (solver.get_dataset_accuracy(dataloaders['val_500files'])))"
   ]
  },
  {
   "cell_type": "markdown",
   "metadata": {},
   "source": [
    "If you're overfitting the training data, that means the network's implementation is correct. However, as you have more samples to overfit, your accuracy will be way lower. You can increase the number of epochs above to achieve better results.\n",
    "\n",
    "Now let's try to feed all the training and validation data into the network, but this time we set the same hyperparameters for 2-layer and 5-layer networks, and compare the different behaviors.\n",
    "\n",
    "__Note__: This may take about 1 min for each epoch as the training set is quite large. For convenience, we only train on 1000 images for now but use the full validation set."
   ]
  },
  {
   "cell_type": "code",
   "execution_count": 13,
   "metadata": {
    "scrolled": true
   },
   "outputs": [
    {
     "name": "stdout",
     "output_type": "stream",
     "text": [
      "(Epoch 1 / 5) train loss: 2.305701; val loss: 2.305844\n",
      "(Epoch 2 / 5) train loss: 2.256443; val loss: 2.227718\n",
      "(Epoch 3 / 5) train loss: 2.228988; val loss: 2.207398\n",
      "(Epoch 4 / 5) train loss: 2.201608; val loss: 2.247919\n",
      "(Epoch 5 / 5) train loss: 2.212576; val loss: 2.257559\n"
     ]
    }
   ],
   "source": [
    "from exercise_code.networks import MyOwnNetwork\n",
    "\n",
    "num_layer = 2\n",
    "epochs = 5\n",
    "reg = 0.01\n",
    "\n",
    "# Make a new data loader with 1000 training samples\n",
    "num_samples = 1000\n",
    "overfit_dataset = ImageFolderDataset(\n",
    "    mode='train',\n",
    "    root=cifar_root, \n",
    "    download_url=download_url,\n",
    "    transform=compose_transform,\n",
    "    limit_files=num_samples\n",
    ")\n",
    "dataloaders['train_small'] = DataLoader(\n",
    "    dataset=overfit_dataset,\n",
    "    batch_size=batch_size,\n",
    "    shuffle=True,\n",
    "    drop_last=False,\n",
    ")\n",
    "\n",
    "\n",
    "# Change here if you want to use the full training set\n",
    "use_full_training_set = False\n",
    "\n",
    "if not use_full_training_set:\n",
    "    train_loader = dataloaders['train_small']\n",
    "else:\n",
    "    train_loader = dataloaders['train']\n",
    "    \n",
    "\n",
    "model = ClassificationNet(num_layer=num_layer, reg=reg)\n",
    "# model = MyOwnNetwork()\n",
    "\n",
    "loss = CrossEntropyFromLogits()\n",
    "\n",
    "\n",
    "solver = Solver(model, train_loader, dataloaders['val'], \n",
    "                learning_rate=1e-3, loss_func=loss, optimizer=Adam)\n",
    "\n",
    "solver.train(epochs=epochs)"
   ]
  },
  {
   "cell_type": "code",
   "execution_count": 14,
   "metadata": {},
   "outputs": [
    {
     "data": {
      "image/png": "[encoded data removed]",
      "text/plain": [
       "<Figure size 432x288 with 1 Axes>"
      ]
     },
     "metadata": {
      "needs_background": "light"
     },
     "output_type": "display_data"
    }
   ],
   "source": [
    "plt.title('Loss curves')\n",
    "plt.plot(solver.train_loss_history, '-', label='train')\n",
    "plt.plot(solver.val_loss_history, '-', label='val')\n",
    "plt.legend(loc='lower right')\n",
    "plt.xlabel('Iteration')\n",
    "plt.show()"
   ]
  },
  {
   "cell_type": "code",
   "execution_count": 15,
   "metadata": {},
   "outputs": [
    {
     "name": "stdout",
     "output_type": "stream",
     "text": [
      "Training accuray: 0.30800\n",
      "Validation accuray: 0.25600\n"
     ]
    }
   ],
   "source": [
    "print(\"Training accuray: %.5f\" % (solver.get_dataset_accuracy(train_loader)))\n",
    "print(\"Validation accuray: %.5f\" % (solver.get_dataset_accuracy(dataloaders['val'])))"
   ]
  },
  {
   "cell_type": "code",
   "execution_count": 16,
   "metadata": {},
   "outputs": [
    {
     "name": "stdout",
     "output_type": "stream",
     "text": [
      "(Epoch 1 / 5) train loss: 2.306000; val loss: 2.305940\n",
      "(Epoch 2 / 5) train loss: 2.318649; val loss: 2.324937\n",
      "(Epoch 3 / 5) train loss: 2.321862; val loss: 2.326214\n",
      "(Epoch 4 / 5) train loss: 2.319320; val loss: 2.305602\n",
      "(Epoch 5 / 5) train loss: 2.317840; val loss: 2.312439\n"
     ]
    }
   ],
   "source": [
    "from exercise_code.networks import MyOwnNetwork\n",
    "\n",
    "num_layer = 5\n",
    "epochs = 5\n",
    "reg = 0.01\n",
    "\n",
    "model = ClassificationNet(num_layer=num_layer, reg=reg)\n",
    "# model = MyOwnNetwork()\n",
    "\n",
    "# Change here if you want to use the full training set\n",
    "use_full_training_set = False\n",
    "if not use_full_training_set:\n",
    "    train_loader = dataloaders['train_small']\n",
    "else:\n",
    "    train_loader = dataloaders['train']\n",
    "\n",
    "loss = CrossEntropyFromLogits()\n",
    "\n",
    "solver = Solver(model, train_loader, dataloaders['val'], \n",
    "                learning_rate=1e-3, loss_func=loss, optimizer=Adam)\n",
    "\n",
    "solver.train(epochs=epochs)"
   ]
  },
  {
   "cell_type": "code",
   "execution_count": 17,
   "metadata": {},
   "outputs": [
    {
     "data": {
      "image/png": "[encoded data removed]",
      "text/plain": [
       "<Figure size 432x288 with 1 Axes>"
      ]
     },
     "metadata": {
      "needs_background": "light"
     },
     "output_type": "display_data"
    }
   ],
   "source": [
    "plt.title('Loss curves')\n",
    "plt.plot(solver.train_loss_history, '-', label='train')\n",
    "plt.plot(solver.val_loss_history, '-', label='val')\n",
    "plt.legend(loc='lower right')\n",
    "plt.xlabel('Iteration')\n",
    "plt.show()"
   ]
  },
  {
   "cell_type": "code",
   "execution_count": 18,
   "metadata": {},
   "outputs": [
    {
     "name": "stdout",
     "output_type": "stream",
     "text": [
      "Training accuray: 0.10500\n",
      "Validation accuray: 0.10600\n"
     ]
    }
   ],
   "source": [
    "print(\"Training accuray: %.5f\" % (solver.get_dataset_accuracy(train_loader)))\n",
    "print(\"Validation accuray: %.5f\" % (solver.get_dataset_accuracy(dataloaders['val'])))"
   ]
  },
  {
   "cell_type": "markdown",
   "metadata": {},
   "source": [
    "As you can see from above, the same hyperparameter set can decrease the loss for a 2-layer network, but for 5-layer network, it hardly works.\n",
    "\n",
    "The steps above are already mentioned in the lectures as debugging steps before training a neural network. \n",
    "\n",
    "If you implement your own network, make sure you do the steps above before tuning the hyperparameters as below. "
   ]
  },
  {
   "cell_type": "markdown",
   "metadata": {},
   "source": [
    "## Difficulty in tuning hyperparameters\n",
    "As can be seen through the results of training a larger network, training with whole data doesn't fit the training data as well as training with small number of training data. Besides, the architecture of neural network makes a difference, too. Small decisions on hyperparameters count. \n",
    "\n",
    "Usually, but not always, hyperparameters cannot be learned using well known gradient based methods (such as gradient descent), which are commonly employed to learn parameters. Besides, some hyperparameters can affect the structure of the model and the loss function.\n",
    "\n",
    "As mentioned before, hyperparameters need to be set before training. Tuning hyperparameters is hard, because you always have to try different combinations of the hyperparameters, train the network, do the validation and pick the best one. Besides, it is not guaranteed that you'll find the best combination.\n",
    "\n",
    "Next you will do hands on learning with hyperparameter tuning methods that are covered in lectures."
   ]
  },
  {
   "cell_type": "markdown",
   "metadata": {},
   "source": [
    "# Hyperparameter Tuning\n",
    "\n",
    "![alt text](https://blog.floydhub.com/content/images/2018/08/Screen-Shot-2018-08-22-at-17.59.25.png \"\")\n",
    "\n",
    "One of the main challenges in deep learning is finding the set of hyperparameters that performs best.\n",
    "\n",
    "So far, we have followed a manual approach by guessing hyperparameters, running the model, observing the result and maybe tweaking the hyperparameters based on this result. As you have probably noticed, this manual hyperparameter tuning is unstructured, inefficient and can become very tedious.\n",
    "\n",
    "\n",
    "A more systematic (and actually very simple) approach for hyperparameter tuning that you've already learned in the lecture  is implementing a **Grid Search**. \n",
    "\n",
    "\n",
    "\n",
    "### Grid Search\n",
    "Grid search is a simple and naive, yet effective method to automate the hyperparameter tuning:\n",
    "\n",
    "* First, you define the set of parameters you want to tune, e.g. $\\{learning\\_rate, regularization\\_strength\\}$.\n",
    "\n",
    "* For each hyperparameter, you then define a set of possible values, e.g. $learning\\_rate = \\{0.0001, 0.001, 0.01, 0.1\\}$.\n",
    "\n",
    "* Then, you train a model for every possible combination of these hyperparameter values and afterwards select the combination that works best (e.g. in terms of accuracy on your validation set).\n",
    "\n",
    "Check out our grid search implementation in `exercise_code/hyperparameter_tuning.py`. We show a simple for loop implementation and a more sophisticated one for multiple inputs.\n",
    "\n",
    "*Note: to keep things simple for the beginning, it'll be enough to just focus on the hyperparameters `learning_rate` and `regularization_strength`\n",
    " here, as in the example above.*"
   ]
  },
  {
   "cell_type": "code",
   "execution_count": 19,
   "metadata": {},
   "outputs": [
    {
     "name": "stdout",
     "output_type": "stream",
     "text": [
      "\n",
      "Evaluating Config #1 [of 6]:\n",
      " {'learning_rate': 0.01, 'reg': 0.0001}\n",
      "(Epoch 1 / 10) train loss: 2.302533; val loss: 2.302440\n",
      "(Epoch 2 / 10) train loss: 2.520568; val loss: 2.563543\n",
      "(Epoch 3 / 10) train loss: 2.747446; val loss: 2.818920\n"
     ]
    },
    {
     "name": "stderr",
     "output_type": "stream",
     "text": [
      "C:\\Users\\tatha\\Desktop\\TumStudies\\SS_20\\I2DL\\i2dl_exercises\\exercise_06\\exercise_code\\networks\\layer.py:66: RuntimeWarning: overflow encountered in exp\n",
      "  outputs = 1 / (1 + np.exp(-x))\n"
     ]
    },
    {
     "name": "stdout",
     "output_type": "stream",
     "text": [
      "(Epoch 4 / 10) train loss: 2.896085; val loss: 2.926120\n",
      "(Epoch 5 / 10) train loss: 3.117753; val loss: 2.969278\n",
      "(Epoch 6 / 10) train loss: 3.109282; val loss: 3.241412\n",
      "Stopping early at epoch 5!\n",
      "\n",
      "Evaluating Config #2 [of 6]:\n",
      " {'learning_rate': 0.01, 'reg': 0.001}\n",
      "(Epoch 1 / 10) train loss: 2.303026; val loss: 2.303660\n",
      "(Epoch 2 / 10) train loss: 3.161548; val loss: 3.398612\n",
      "(Epoch 3 / 10) train loss: 3.647394; val loss: 3.787552\n",
      "(Epoch 4 / 10) train loss: 3.773463; val loss: 3.971945\n",
      "(Epoch 5 / 10) train loss: 3.859183; val loss: 3.767656\n",
      "(Epoch 6 / 10) train loss: 3.884865; val loss: 3.862086\n",
      "Stopping early at epoch 5!\n",
      "\n",
      "Evaluating Config #3 [of 6]:\n",
      " {'learning_rate': 0.001, 'reg': 0.0001}\n",
      "(Epoch 1 / 10) train loss: 2.302940; val loss: 2.302705\n",
      "(Epoch 2 / 10) train loss: 2.182972; val loss: 2.008328\n",
      "(Epoch 3 / 10) train loss: 1.994293; val loss: 1.900689\n",
      "(Epoch 4 / 10) train loss: 1.891724; val loss: 1.938431\n",
      "(Epoch 5 / 10) train loss: 1.836655; val loss: 1.873879\n",
      "(Epoch 6 / 10) train loss: 1.752229; val loss: 1.959885\n",
      "(Epoch 7 / 10) train loss: 1.683332; val loss: 1.904055\n",
      "(Epoch 8 / 10) train loss: 1.629714; val loss: 1.954967\n",
      "(Epoch 9 / 10) train loss: 1.571832; val loss: 1.913448\n",
      "(Epoch 10 / 10) train loss: 1.522353; val loss: 2.000169\n",
      "Stopping early at epoch 9!\n",
      "\n",
      "Evaluating Config #4 [of 6]:\n",
      " {'learning_rate': 0.001, 'reg': 0.001}\n",
      "(Epoch 1 / 10) train loss: 2.302885; val loss: 2.302999\n",
      "(Epoch 2 / 10) train loss: 2.197185; val loss: 2.092788\n",
      "(Epoch 3 / 10) train loss: 2.061230; val loss: 1.988481\n",
      "(Epoch 4 / 10) train loss: 2.026513; val loss: 2.005430\n",
      "(Epoch 5 / 10) train loss: 1.989781; val loss: 1.978470\n",
      "(Epoch 6 / 10) train loss: 1.961509; val loss: 1.999933\n",
      "(Epoch 7 / 10) train loss: 1.925050; val loss: 2.091188\n",
      "(Epoch 8 / 10) train loss: 1.903228; val loss: 2.063029\n",
      "(Epoch 9 / 10) train loss: 1.868672; val loss: 2.074501\n",
      "(Epoch 10 / 10) train loss: 1.845119; val loss: 2.184799\n",
      "Stopping early at epoch 9!\n",
      "\n",
      "Evaluating Config #5 [of 6]:\n",
      " {'learning_rate': 0.0001, 'reg': 0.0001}\n",
      "(Epoch 1 / 10) train loss: 2.302504; val loss: 2.302921\n",
      "(Epoch 2 / 10) train loss: 2.285481; val loss: 2.246378\n",
      "(Epoch 3 / 10) train loss: 2.214564; val loss: 2.167454\n",
      "(Epoch 4 / 10) train loss: 2.146836; val loss: 2.113722\n",
      "(Epoch 5 / 10) train loss: 2.089965; val loss: 2.070851\n",
      "(Epoch 6 / 10) train loss: 2.044468; val loss: 2.029531\n",
      "(Epoch 7 / 10) train loss: 2.003315; val loss: 1.994754\n",
      "(Epoch 8 / 10) train loss: 1.965701; val loss: 1.971192\n",
      "(Epoch 9 / 10) train loss: 1.931852; val loss: 1.948931\n",
      "(Epoch 10 / 10) train loss: 1.900131; val loss: 1.931443\n",
      "\n",
      "Evaluating Config #6 [of 6]:\n",
      " {'learning_rate': 0.0001, 'reg': 0.001}\n",
      "(Epoch 1 / 10) train loss: 2.302826; val loss: 2.303260\n",
      "(Epoch 2 / 10) train loss: 2.282674; val loss: 2.244019\n",
      "(Epoch 3 / 10) train loss: 2.223528; val loss: 2.189860\n",
      "(Epoch 4 / 10) train loss: 2.175532; val loss: 2.150038\n",
      "(Epoch 5 / 10) train loss: 2.133320; val loss: 2.115374\n",
      "(Epoch 6 / 10) train loss: 2.095820; val loss: 2.082308\n",
      "(Epoch 7 / 10) train loss: 2.060597; val loss: 2.050235\n",
      "(Epoch 8 / 10) train loss: 2.025463; val loss: 2.026587\n",
      "(Epoch 9 / 10) train loss: 1.992792; val loss: 2.004752\n",
      "(Epoch 10 / 10) train loss: 1.962959; val loss: 1.988090\n",
      "\n",
      "Search done. Best Val Loss = 1.873878553425489\n",
      "Best Config: {'learning_rate': 0.001, 'reg': 0.0001}\n"
     ]
    }
   ],
   "source": [
    "from exercise_code.networks import MyOwnNetwork\n",
    "\n",
    "# Specify the used network\n",
    "model_class = ClassificationNet\n",
    "\n",
    "from exercise_code import hyperparameter_tuning\n",
    "best_model, results = hyperparameter_tuning.grid_search(\n",
    "    dataloaders['train_small'], dataloaders['val_500files'],\n",
    "    grid_search_spaces = {\n",
    "        \"learning_rate\": [1e-2, 1e-3, 1e-4], \n",
    "        \"reg\": [1e-4, 1e-3]\n",
    "    },\n",
    "    model_class=model_class,\n",
    "    epochs=10, patience=5)"
   ]
  },
  {
   "cell_type": "markdown",
   "metadata": {},
   "source": [
    "From the results of your grid search, you might already have found some hyperparameter combinations that work better than others. A common practice is to now repeat the grid search on a more narrow domain centered around the parameters that worked best. \n",
    "\n",
    "**Conclusion Grid Search**\n",
    "\n",
    "With grid search we now have automated the hyperparameter tuning to a certain degree. Another advantage is, that since the training of all models are independent of each other, you can parallelize the grid search, i.e.,  try out different hyperparameter configurations in parallel on different machines.\n",
    "\n",
    "However, as you have probably noticed, there is one big problem with this approach: the number of possible combinations to try out grows exponentially with the number of hyperparameters (\"curse of dimensionality\"). As we add more hyperparameters to the grid search, the search space will explode in time complexity, making this strategy unfeasible."
   ]
  },
  {
   "cell_type": "markdown",
   "metadata": {},
   "source": [
    "Especially when your search space contains more than 3 or 4 dimensions, it is often better to use another, similar hyperparameter tuning method that you've already learned about: random search."
   ]
  },
  {
   "cell_type": "markdown",
   "metadata": {},
   "source": [
    "## Random Search\n",
    "Random search is very similar to grid search, with the only difference, that instead of providing specific values for every hyperparameter, you only define a range for each hyperparameter - then, the values are sampled randomly from the provided ranges.\n",
    "\n",
    "![alt text](https://i.stack.imgur.com/cIDuR.png \"\")\n",
    "\n",
    "The figure above illustrates the difference in the hyperparameter space exploration between grid search and random search: assume you have 2 hyperparameters with each 3 values. Running a grid search results in training $3^2=9$ different models - but in the end, you've just tired out 3 values for each parameter. For random search on the other hand, after training 9 models you'll have tried out 9 different values for each hyperparameter, which often leads much faster to good results.\n",
    "\n",
    "To get a deeper understanding of random search and why it is more efficient than grid search, you should definitely check out this paper: http://www.jmlr.org/papers/volume13/bergstra12a/bergstra12a.pdf\n",
    "\n",
    "\n",
    "\n",
    "\n",
    "Now please implement the `nn_random_search` function in `exercise_code/networks/hyperparameter_tuning.py`. \n",
    "\n",
    "*Hint: regarding the sample space of each parameter, think about the scale for which it makes most sense to sample in. For example the learning rate is usually sampled on a logarithmic scale!*\n",
    "\n",
    "*For simplicity and speed, just use the `train_batches`-dataloader!*"
   ]
  },
  {
   "cell_type": "code",
   "execution_count": 20,
   "metadata": {},
   "outputs": [
    {
     "name": "stdout",
     "output_type": "stream",
     "text": [
      "\n",
      "Evaluating Config #1 [of 20]:\n",
      " {'learning_rate': 0.0010668061167002105, 'reg': 9.974086983653887e-05, 'std': 0.2, 'hidden_size': 200, 'loss_func': <exercise_code.networks.loss.CrossEntropyFromLogits object at 0x000001C60D0ED1C8>, 'activation': <exercise_code.networks.layer.Sigmoid object at 0x000001C60D0ED288>}\n",
      "(Epoch 1 / 20) train loss: 6.063072; val loss: 5.888803\n",
      "(Epoch 2 / 20) train loss: 4.869573; val loss: 4.644120\n",
      "(Epoch 3 / 20) train loss: 4.131665; val loss: 4.589464\n",
      "(Epoch 4 / 20) train loss: 3.782901; val loss: 4.465465\n",
      "(Epoch 5 / 20) train loss: 3.572980; val loss: 4.407795\n",
      "(Epoch 6 / 20) train loss: 3.356288; val loss: 4.423848\n",
      "(Epoch 7 / 20) train loss: 3.167700; val loss: 4.317606\n",
      "(Epoch 8 / 20) train loss: 3.047258; val loss: 4.308040\n",
      "(Epoch 9 / 20) train loss: 2.881886; val loss: 4.271977\n",
      "(Epoch 10 / 20) train loss: 2.757725; val loss: 4.198018\n",
      "(Epoch 11 / 20) train loss: 2.651862; val loss: 4.246535\n",
      "(Epoch 12 / 20) train loss: 2.546942; val loss: 4.150619\n",
      "(Epoch 13 / 20) train loss: 2.459094; val loss: 4.116730\n",
      "(Epoch 14 / 20) train loss: 2.347808; val loss: 4.054156\n",
      "(Epoch 15 / 20) train loss: 2.294391; val loss: 4.005112\n",
      "(Epoch 16 / 20) train loss: 2.183136; val loss: 3.986320\n",
      "(Epoch 17 / 20) train loss: 2.129600; val loss: 3.899780\n",
      "(Epoch 18 / 20) train loss: 2.077153; val loss: 3.878479\n",
      "(Epoch 19 / 20) train loss: 2.022043; val loss: 3.833608\n",
      "(Epoch 20 / 20) train loss: 1.959028; val loss: 3.844055\n",
      "\n",
      "Evaluating Config #2 [of 20]:\n",
      " {'learning_rate': 0.0012683397051634156, 'reg': 0.00012508780965741275, 'std': 0.1, 'hidden_size': 200, 'loss_func': <exercise_code.networks.loss.CrossEntropyFromLogits object at 0x000001C60D0ED1C8>, 'activation': <exercise_code.networks.layer.Relu object at 0x000001C60D0ED248>}\n",
      "(Epoch 1 / 20) train loss: 8.658190; val loss: 8.028408\n",
      "(Epoch 2 / 20) train loss: 9.696507; val loss: 9.604179\n",
      "(Epoch 3 / 20) train loss: 5.115997; val loss: 7.936325\n",
      "(Epoch 4 / 20) train loss: 4.241031; val loss: 7.656439\n",
      "(Epoch 5 / 20) train loss: 2.885418; val loss: 6.463868\n",
      "(Epoch 6 / 20) train loss: 2.343319; val loss: 6.059282\n",
      "(Epoch 7 / 20) train loss: 2.101916; val loss: 6.570497\n",
      "(Epoch 8 / 20) train loss: 2.109663; val loss: 8.360873\n",
      "(Epoch 9 / 20) train loss: 2.316444; val loss: 6.788224\n",
      "(Epoch 10 / 20) train loss: 1.749153; val loss: 7.993830\n",
      "(Epoch 11 / 20) train loss: 1.708683; val loss: 6.831641\n",
      "Stopping early at epoch 10!\n",
      "\n",
      "Evaluating Config #3 [of 20]:\n",
      " {'learning_rate': 0.0009596292399725501, 'reg': 0.0001662735735257351, 'std': 0.2, 'hidden_size': 100, 'loss_func': <exercise_code.networks.loss.CrossEntropyFromLogits object at 0x000001C60D0ED1C8>, 'activation': <exercise_code.networks.layer.Relu object at 0x000001C60D0ED248>}\n",
      "(Epoch 1 / 20) train loss: 21.166161; val loss: 20.258500\n",
      "(Epoch 2 / 20) train loss: 14.096141; val loss: 11.189368\n",
      "(Epoch 3 / 20) train loss: 8.366485; val loss: 10.413060\n",
      "(Epoch 4 / 20) train loss: 6.389934; val loss: 10.615220\n",
      "(Epoch 5 / 20) train loss: 4.543892; val loss: 10.429339\n",
      "(Epoch 6 / 20) train loss: 3.851945; val loss: 10.139992\n",
      "(Epoch 7 / 20) train loss: 3.573368; val loss: 11.772512\n",
      "(Epoch 8 / 20) train loss: 3.273431; val loss: 10.401363\n",
      "(Epoch 9 / 20) train loss: 2.976663; val loss: 11.741196\n",
      "(Epoch 10 / 20) train loss: 2.859125; val loss: 11.390684\n",
      "(Epoch 11 / 20) train loss: 3.014182; val loss: 12.340441\n",
      "Stopping early at epoch 10!\n",
      "\n",
      "Evaluating Config #4 [of 20]:\n",
      " {'learning_rate': 0.0016327333712159598, 'reg': 0.0001321189493644327, 'std': 0.2, 'hidden_size': 100, 'loss_func': <exercise_code.networks.loss.CrossEntropyFromLogits object at 0x000001C60D0ED1C8>, 'activation': <exercise_code.networks.layer.Sigmoid object at 0x000001C60D0ED288>}\n",
      "(Epoch 1 / 20) train loss: 4.385313; val loss: 4.390104\n",
      "(Epoch 2 / 20) train loss: 3.787781; val loss: 3.582639\n",
      "(Epoch 3 / 20) train loss: 3.373894; val loss: 3.538842\n",
      "(Epoch 4 / 20) train loss: 3.200693; val loss: 3.457940\n",
      "(Epoch 5 / 20) train loss: 3.057807; val loss: 3.383437\n",
      "(Epoch 6 / 20) train loss: 2.884233; val loss: 3.350404\n",
      "(Epoch 7 / 20) train loss: 2.776647; val loss: 3.334099\n",
      "(Epoch 8 / 20) train loss: 2.688145; val loss: 3.274787\n",
      "(Epoch 9 / 20) train loss: 2.574605; val loss: 3.282578\n",
      "(Epoch 10 / 20) train loss: 2.518969; val loss: 3.205509\n",
      "(Epoch 11 / 20) train loss: 2.425513; val loss: 3.196361\n",
      "(Epoch 12 / 20) train loss: 2.341503; val loss: 3.038826\n",
      "(Epoch 13 / 20) train loss: 2.228968; val loss: 3.114386\n",
      "(Epoch 14 / 20) train loss: 2.209940; val loss: 3.032233\n",
      "(Epoch 15 / 20) train loss: 2.156799; val loss: 3.082863\n",
      "(Epoch 16 / 20) train loss: 2.081421; val loss: 2.989341\n",
      "(Epoch 17 / 20) train loss: 2.016621; val loss: 2.863845\n",
      "(Epoch 18 / 20) train loss: 1.929079; val loss: 3.107010\n",
      "(Epoch 19 / 20) train loss: 1.860085; val loss: 3.119124\n",
      "(Epoch 20 / 20) train loss: 1.792958; val loss: 3.011064\n",
      "\n",
      "Evaluating Config #5 [of 20]:\n",
      " {'learning_rate': 0.0010133515334805863, 'reg': 0.00019631680534368416, 'std': 0.1, 'hidden_size': 150, 'loss_func': <exercise_code.networks.loss.CrossEntropyFromLogits object at 0x000001C60D0ED1C8>, 'activation': <exercise_code.networks.layer.Sigmoid object at 0x000001C60D0ED288>}\n",
      "(Epoch 1 / 20) train loss: 3.364940; val loss: 3.440706\n",
      "(Epoch 2 / 20) train loss: 2.989949; val loss: 2.927830\n",
      "(Epoch 3 / 20) train loss: 2.614639; val loss: 2.798596\n",
      "(Epoch 4 / 20) train loss: 2.446021; val loss: 2.699801\n",
      "(Epoch 5 / 20) train loss: 2.265140; val loss: 2.689406\n",
      "(Epoch 6 / 20) train loss: 2.127719; val loss: 2.661400\n",
      "(Epoch 7 / 20) train loss: 2.000999; val loss: 2.672323\n",
      "(Epoch 8 / 20) train loss: 1.888547; val loss: 2.660534\n",
      "(Epoch 9 / 20) train loss: 1.794672; val loss: 2.651451\n",
      "(Epoch 10 / 20) train loss: 1.727677; val loss: 2.636245\n",
      "(Epoch 11 / 20) train loss: 1.609887; val loss: 2.568596\n",
      "(Epoch 12 / 20) train loss: 1.544607; val loss: 2.623007\n",
      "(Epoch 13 / 20) train loss: 1.460184; val loss: 2.609090\n",
      "(Epoch 14 / 20) train loss: 1.388107; val loss: 2.715288\n",
      "(Epoch 15 / 20) train loss: 1.304713; val loss: 2.549296\n",
      "(Epoch 16 / 20) train loss: 1.227409; val loss: 2.534128\n",
      "(Epoch 17 / 20) train loss: 1.195740; val loss: 2.735005\n",
      "(Epoch 18 / 20) train loss: 1.158954; val loss: 2.597306\n",
      "(Epoch 19 / 20) train loss: 1.060454; val loss: 2.733186\n",
      "(Epoch 20 / 20) train loss: 1.041545; val loss: 2.618917\n",
      "\n",
      "Evaluating Config #6 [of 20]:\n",
      " {'learning_rate': 0.0018761821878426896, 'reg': 0.00018213728273595178, 'std': 0.1, 'hidden_size': 150, 'loss_func': <exercise_code.networks.loss.CrossEntropyFromLogits object at 0x000001C60D0ED1C8>, 'activation': <exercise_code.networks.layer.Sigmoid object at 0x000001C60D0ED288>}\n",
      "(Epoch 1 / 20) train loss: 3.500685; val loss: 3.486430\n",
      "(Epoch 2 / 20) train loss: 3.034925; val loss: 2.807476\n",
      "(Epoch 3 / 20) train loss: 2.644762; val loss: 2.798654\n",
      "(Epoch 4 / 20) train loss: 2.458628; val loss: 2.696309\n",
      "(Epoch 5 / 20) train loss: 2.359741; val loss: 2.711739\n",
      "(Epoch 6 / 20) train loss: 2.277691; val loss: 2.605626\n",
      "(Epoch 7 / 20) train loss: 2.152057; val loss: 2.613341\n",
      "(Epoch 8 / 20) train loss: 2.103958; val loss: 2.472921\n",
      "(Epoch 9 / 20) train loss: 2.022605; val loss: 2.542516\n",
      "(Epoch 10 / 20) train loss: 1.981323; val loss: 2.521042\n",
      "(Epoch 11 / 20) train loss: 1.948080; val loss: 2.484815\n",
      "(Epoch 12 / 20) train loss: 1.909358; val loss: 2.579008\n",
      "(Epoch 13 / 20) train loss: 1.865139; val loss: 2.520091\n",
      "Stopping early at epoch 12!\n",
      "\n",
      "Evaluating Config #7 [of 20]:\n",
      " {'learning_rate': 0.0009762433064778408, 'reg': 0.00012697830108987198, 'std': 0.05, 'hidden_size': 200, 'loss_func': <exercise_code.networks.loss.CrossEntropyFromLogits object at 0x000001C60D0ED1C8>, 'activation': <exercise_code.networks.layer.Sigmoid object at 0x000001C60D0ED288>}\n",
      "(Epoch 1 / 20) train loss: 2.624235; val loss: 2.585833\n",
      "(Epoch 2 / 20) train loss: 2.306782; val loss: 2.185683\n",
      "(Epoch 3 / 20) train loss: 1.992961; val loss: 2.213293\n",
      "(Epoch 4 / 20) train loss: 1.853156; val loss: 2.181791\n",
      "(Epoch 5 / 20) train loss: 1.761288; val loss: 2.168826\n",
      "(Epoch 6 / 20) train loss: 1.659140; val loss: 2.154693\n",
      "(Epoch 7 / 20) train loss: 1.568624; val loss: 2.210596\n",
      "(Epoch 8 / 20) train loss: 1.452963; val loss: 2.286448\n",
      "(Epoch 9 / 20) train loss: 1.402420; val loss: 2.234755\n",
      "(Epoch 10 / 20) train loss: 1.289251; val loss: 2.285297\n"
     ]
    },
    {
     "name": "stdout",
     "output_type": "stream",
     "text": [
      "(Epoch 11 / 20) train loss: 1.235152; val loss: 2.282552\n",
      "Stopping early at epoch 10!\n",
      "\n",
      "Evaluating Config #8 [of 20]:\n",
      " {'learning_rate': 0.001081014227553499, 'reg': 0.00011718887808861033, 'std': 0.2, 'hidden_size': 200, 'loss_func': <exercise_code.networks.loss.CrossEntropyFromLogits object at 0x000001C60D0ED1C8>, 'activation': <exercise_code.networks.layer.Sigmoid object at 0x000001C60D0ED288>}\n",
      "(Epoch 1 / 20) train loss: 6.152008; val loss: 6.021019\n",
      "(Epoch 2 / 20) train loss: 5.296268; val loss: 4.945413\n",
      "(Epoch 3 / 20) train loss: 4.507159; val loss: 4.822744\n",
      "(Epoch 4 / 20) train loss: 4.173181; val loss: 4.671373\n",
      "(Epoch 5 / 20) train loss: 3.913401; val loss: 4.597668\n",
      "(Epoch 6 / 20) train loss: 3.699330; val loss: 4.646478\n",
      "(Epoch 7 / 20) train loss: 3.517397; val loss: 4.564286\n",
      "(Epoch 8 / 20) train loss: 3.342616; val loss: 4.461194\n",
      "(Epoch 9 / 20) train loss: 3.162873; val loss: 4.512142\n",
      "(Epoch 10 / 20) train loss: 3.022275; val loss: 4.402301\n",
      "(Epoch 11 / 20) train loss: 2.893913; val loss: 4.297956\n",
      "(Epoch 12 / 20) train loss: 2.773545; val loss: 4.182404\n",
      "(Epoch 13 / 20) train loss: 2.678231; val loss: 4.285638\n",
      "(Epoch 14 / 20) train loss: 2.540299; val loss: 4.266586\n",
      "(Epoch 15 / 20) train loss: 2.457871; val loss: 4.242225\n",
      "(Epoch 16 / 20) train loss: 2.389540; val loss: 4.160886\n",
      "(Epoch 17 / 20) train loss: 2.274396; val loss: 3.993829\n",
      "(Epoch 18 / 20) train loss: 2.248232; val loss: 3.918482\n",
      "(Epoch 19 / 20) train loss: 2.122264; val loss: 3.891475\n",
      "(Epoch 20 / 20) train loss: 2.023263; val loss: 3.881935\n",
      "\n",
      "Evaluating Config #9 [of 20]:\n",
      " {'learning_rate': 0.0017636225812996066, 'reg': 0.0001282357464334131, 'std': 0.1, 'hidden_size': 150, 'loss_func': <exercise_code.networks.loss.CrossEntropyFromLogits object at 0x000001C60D0ED1C8>, 'activation': <exercise_code.networks.layer.Sigmoid object at 0x000001C60D0ED288>}\n",
      "(Epoch 1 / 20) train loss: 3.202970; val loss: 3.092772\n",
      "(Epoch 2 / 20) train loss: 2.770843; val loss: 2.583455\n",
      "(Epoch 3 / 20) train loss: 2.442949; val loss: 2.570050\n",
      "(Epoch 4 / 20) train loss: 2.292491; val loss: 2.557780\n",
      "(Epoch 5 / 20) train loss: 2.192050; val loss: 2.511589\n",
      "(Epoch 6 / 20) train loss: 2.120694; val loss: 2.498366\n",
      "(Epoch 7 / 20) train loss: 2.034592; val loss: 2.403119\n",
      "(Epoch 8 / 20) train loss: 1.976246; val loss: 2.441209\n",
      "(Epoch 9 / 20) train loss: 1.945039; val loss: 2.496974\n",
      "(Epoch 10 / 20) train loss: 1.900985; val loss: 2.422333\n",
      "(Epoch 11 / 20) train loss: 1.781659; val loss: 2.443566\n",
      "(Epoch 12 / 20) train loss: 1.796504; val loss: 2.538025\n",
      "Stopping early at epoch 11!\n",
      "\n",
      "Evaluating Config #10 [of 20]:\n",
      " {'learning_rate': 0.0011649872213914576, 'reg': 0.0001305469573566423, 'std': 0.1, 'hidden_size': 150, 'loss_func': <exercise_code.networks.loss.CrossEntropyFromLogits object at 0x000001C60D0ED1C8>, 'activation': <exercise_code.networks.layer.Relu object at 0x000001C60D0ED248>}\n",
      "(Epoch 1 / 20) train loss: 8.845231; val loss: 7.952592\n",
      "(Epoch 2 / 20) train loss: 7.462506; val loss: 6.559836\n",
      "(Epoch 3 / 20) train loss: 4.069431; val loss: 4.602263\n",
      "(Epoch 4 / 20) train loss: 2.691204; val loss: 5.138759\n",
      "(Epoch 5 / 20) train loss: 2.151930; val loss: 5.737494\n",
      "(Epoch 6 / 20) train loss: 2.007897; val loss: 4.911891\n",
      "(Epoch 7 / 20) train loss: 1.615868; val loss: 5.683906\n",
      "(Epoch 8 / 20) train loss: 1.433887; val loss: 4.883034\n",
      "Stopping early at epoch 7!\n",
      "\n",
      "Evaluating Config #11 [of 20]:\n",
      " {'learning_rate': 0.0010618057298685142, 'reg': 0.00015412688215653197, 'std': 0.1, 'hidden_size': 100, 'loss_func': <exercise_code.networks.loss.CrossEntropyFromLogits object at 0x000001C60D0ED1C8>, 'activation': <exercise_code.networks.layer.Sigmoid object at 0x000001C60D0ED288>}\n",
      "(Epoch 1 / 20) train loss: 3.086960; val loss: 3.059774\n",
      "(Epoch 2 / 20) train loss: 2.603154; val loss: 2.429082\n",
      "(Epoch 3 / 20) train loss: 2.299088; val loss: 2.377627\n",
      "(Epoch 4 / 20) train loss: 2.136141; val loss: 2.400197\n",
      "(Epoch 5 / 20) train loss: 2.021996; val loss: 2.408010\n",
      "(Epoch 6 / 20) train loss: 1.927638; val loss: 2.365738\n",
      "(Epoch 7 / 20) train loss: 1.823575; val loss: 2.342328\n",
      "(Epoch 8 / 20) train loss: 1.739859; val loss: 2.316168\n",
      "(Epoch 9 / 20) train loss: 1.643846; val loss: 2.359823\n",
      "(Epoch 10 / 20) train loss: 1.579521; val loss: 2.467094\n",
      "(Epoch 11 / 20) train loss: 1.487485; val loss: 2.429817\n",
      "(Epoch 12 / 20) train loss: 1.429886; val loss: 2.355574\n",
      "(Epoch 13 / 20) train loss: 1.361881; val loss: 2.434833\n",
      "Stopping early at epoch 12!\n",
      "\n",
      "Evaluating Config #12 [of 20]:\n",
      " {'learning_rate': 0.00112869210409047, 'reg': 0.00014476684393361985, 'std': 0.05, 'hidden_size': 200, 'loss_func': <exercise_code.networks.loss.CrossEntropyFromLogits object at 0x000001C60D0ED1C8>, 'activation': <exercise_code.networks.layer.Relu object at 0x000001C60D0ED248>}\n",
      "(Epoch 1 / 20) train loss: 3.465502; val loss: 3.464851\n",
      "(Epoch 2 / 20) train loss: 4.117709; val loss: 2.823144\n",
      "(Epoch 3 / 20) train loss: 2.437271; val loss: 3.071599\n",
      "(Epoch 4 / 20) train loss: 1.864116; val loss: 3.229652\n",
      "(Epoch 5 / 20) train loss: 1.524698; val loss: 3.266702\n",
      "(Epoch 6 / 20) train loss: 1.463048; val loss: 3.534782\n",
      "(Epoch 7 / 20) train loss: 1.100784; val loss: 3.349517\n",
      "Stopping early at epoch 6!\n",
      "\n",
      "Evaluating Config #13 [of 20]:\n",
      " {'learning_rate': 0.0009277438418113646, 'reg': 0.0001093891430436408, 'std': 0.2, 'hidden_size': 200, 'loss_func': <exercise_code.networks.loss.CrossEntropyFromLogits object at 0x000001C60D0ED1C8>, 'activation': <exercise_code.networks.layer.Sigmoid object at 0x000001C60D0ED288>}\n",
      "(Epoch 1 / 20) train loss: 6.517667; val loss: 6.401292\n",
      "(Epoch 2 / 20) train loss: 5.195877; val loss: 4.965266\n",
      "(Epoch 3 / 20) train loss: 4.319435; val loss: 4.730543\n",
      "(Epoch 4 / 20) train loss: 4.013737; val loss: 4.790382\n",
      "(Epoch 5 / 20) train loss: 3.734405; val loss: 4.694405\n",
      "(Epoch 6 / 20) train loss: 3.554048; val loss: 4.699896\n",
      "(Epoch 7 / 20) train loss: 3.375652; val loss: 4.598108\n",
      "(Epoch 8 / 20) train loss: 3.177070; val loss: 4.587285\n",
      "(Epoch 9 / 20) train loss: 3.046032; val loss: 4.579393\n",
      "(Epoch 10 / 20) train loss: 2.917035; val loss: 4.518612\n",
      "(Epoch 11 / 20) train loss: 2.803160; val loss: 4.435999\n",
      "(Epoch 12 / 20) train loss: 2.684754; val loss: 4.408742\n",
      "(Epoch 13 / 20) train loss: 2.573189; val loss: 4.292160\n",
      "(Epoch 14 / 20) train loss: 2.514436; val loss: 4.284644\n",
      "(Epoch 15 / 20) train loss: 2.417372; val loss: 4.174556\n",
      "(Epoch 16 / 20) train loss: 2.338562; val loss: 4.282898\n",
      "(Epoch 17 / 20) train loss: 2.196484; val loss: 4.242620\n",
      "(Epoch 18 / 20) train loss: 2.130567; val loss: 4.147760\n",
      "(Epoch 19 / 20) train loss: 2.038213; val loss: 4.058938\n",
      "(Epoch 20 / 20) train loss: 1.986632; val loss: 4.066528\n",
      "\n",
      "Evaluating Config #14 [of 20]:\n",
      " {'learning_rate': 0.0013357024831021221, 'reg': 0.0001592382154888628, 'std': 0.1, 'hidden_size': 150, 'loss_func': <exercise_code.networks.loss.CrossEntropyFromLogits object at 0x000001C60D0ED1C8>, 'activation': <exercise_code.networks.layer.Relu object at 0x000001C60D0ED248>}\n",
      "(Epoch 1 / 20) train loss: 8.634625; val loss: 8.652873\n",
      "(Epoch 2 / 20) train loss: 8.137354; val loss: 7.310454\n",
      "(Epoch 3 / 20) train loss: 4.460576; val loss: 6.765265\n",
      "(Epoch 4 / 20) train loss: 3.255449; val loss: 7.133026\n",
      "(Epoch 5 / 20) train loss: 2.640992; val loss: 7.845784\n",
      "(Epoch 6 / 20) train loss: 2.173321; val loss: 7.324205\n",
      "(Epoch 7 / 20) train loss: 2.186219; val loss: 6.547546\n",
      "(Epoch 8 / 20) train loss: 1.972926; val loss: 6.852241\n",
      "(Epoch 9 / 20) train loss: 1.810853; val loss: 6.427444\n",
      "(Epoch 10 / 20) train loss: 1.629602; val loss: 6.940545\n",
      "(Epoch 11 / 20) train loss: 1.818550; val loss: 7.828382\n",
      "(Epoch 12 / 20) train loss: 1.430824; val loss: 6.552504\n",
      "(Epoch 13 / 20) train loss: 1.564953; val loss: 6.857794\n",
      "(Epoch 14 / 20) train loss: 1.331035; val loss: 8.101183\n",
      "Stopping early at epoch 13!\n",
      "\n",
      "Evaluating Config #15 [of 20]:\n",
      " {'learning_rate': 0.0011842413804910236, 'reg': 0.0001053284954564912, 'std': 0.1, 'hidden_size': 150, 'loss_func': <exercise_code.networks.loss.CrossEntropyFromLogits object at 0x000001C60D0ED1C8>, 'activation': <exercise_code.networks.layer.Relu object at 0x000001C60D0ED248>}\n",
      "(Epoch 1 / 20) train loss: 8.038040; val loss: 7.336154\n",
      "(Epoch 2 / 20) train loss: 6.586673; val loss: 6.739803\n",
      "(Epoch 3 / 20) train loss: 3.970544; val loss: 6.315496\n"
     ]
    },
    {
     "name": "stdout",
     "output_type": "stream",
     "text": [
      "(Epoch 4 / 20) train loss: 3.078630; val loss: 5.649314\n",
      "(Epoch 5 / 20) train loss: 2.035171; val loss: 4.653210\n",
      "(Epoch 6 / 20) train loss: 1.778228; val loss: 4.658491\n",
      "(Epoch 7 / 20) train loss: 1.339113; val loss: 5.058709\n",
      "(Epoch 8 / 20) train loss: 1.373028; val loss: 6.267208\n",
      "(Epoch 9 / 20) train loss: 1.327285; val loss: 6.076415\n",
      "(Epoch 10 / 20) train loss: 1.100981; val loss: 5.278974\n",
      "Stopping early at epoch 9!\n",
      "\n",
      "Evaluating Config #16 [of 20]:\n",
      " {'learning_rate': 0.0013137507016777264, 'reg': 0.00019211271069844568, 'std': 0.05, 'hidden_size': 150, 'loss_func': <exercise_code.networks.loss.CrossEntropyFromLogits object at 0x000001C60D0ED1C8>, 'activation': <exercise_code.networks.layer.Relu object at 0x000001C60D0ED248>}\n",
      "(Epoch 1 / 20) train loss: 3.259303; val loss: 3.432601\n",
      "(Epoch 2 / 20) train loss: 3.522495; val loss: 2.991456\n",
      "(Epoch 3 / 20) train loss: 2.286561; val loss: 2.985800\n",
      "(Epoch 4 / 20) train loss: 1.786049; val loss: 3.092562\n",
      "(Epoch 5 / 20) train loss: 1.491008; val loss: 3.154800\n",
      "(Epoch 6 / 20) train loss: 1.535828; val loss: 3.339583\n",
      "(Epoch 7 / 20) train loss: 1.254051; val loss: 4.019923\n",
      "(Epoch 8 / 20) train loss: 1.417268; val loss: 3.525928\n",
      "Stopping early at epoch 7!\n",
      "\n",
      "Evaluating Config #17 [of 20]:\n",
      " {'learning_rate': 0.0009450825566943386, 'reg': 0.00019459461623818572, 'std': 0.2, 'hidden_size': 150, 'loss_func': <exercise_code.networks.loss.CrossEntropyFromLogits object at 0x000001C60D0ED1C8>, 'activation': <exercise_code.networks.layer.Relu object at 0x000001C60D0ED248>}\n",
      "(Epoch 1 / 20) train loss: 31.418522; val loss: 32.647645\n",
      "(Epoch 2 / 20) train loss: 19.504540; val loss: 17.601097\n",
      "(Epoch 3 / 20) train loss: 12.500026; val loss: 17.728567\n",
      "(Epoch 4 / 20) train loss: 8.809892; val loss: 15.910643\n",
      "(Epoch 5 / 20) train loss: 6.634767; val loss: 16.594734\n",
      "(Epoch 6 / 20) train loss: 6.087741; val loss: 16.528500\n",
      "(Epoch 7 / 20) train loss: 5.244778; val loss: 15.206863\n",
      "(Epoch 8 / 20) train loss: 4.951522; val loss: 16.206458\n",
      "(Epoch 9 / 20) train loss: 5.024487; val loss: 16.157605\n",
      "(Epoch 10 / 20) train loss: 5.247145; val loss: 16.117667\n",
      "(Epoch 11 / 20) train loss: 4.564230; val loss: 20.089994\n",
      "(Epoch 12 / 20) train loss: 5.001308; val loss: 16.814581\n",
      "Stopping early at epoch 11!\n",
      "\n",
      "Evaluating Config #18 [of 20]:\n",
      " {'learning_rate': 0.0011798914156887412, 'reg': 0.00010403142894975281, 'std': 0.2, 'hidden_size': 100, 'loss_func': <exercise_code.networks.loss.CrossEntropyFromLogits object at 0x000001C60D0ED1C8>, 'activation': <exercise_code.networks.layer.Sigmoid object at 0x000001C60D0ED288>}\n",
      "(Epoch 1 / 20) train loss: 4.448194; val loss: 4.462323\n",
      "(Epoch 2 / 20) train loss: 3.565523; val loss: 3.361624\n",
      "(Epoch 3 / 20) train loss: 3.100834; val loss: 3.286128\n",
      "(Epoch 4 / 20) train loss: 2.880980; val loss: 3.309470\n",
      "(Epoch 5 / 20) train loss: 2.752064; val loss: 3.193716\n",
      "(Epoch 6 / 20) train loss: 2.575648; val loss: 3.099861\n",
      "(Epoch 7 / 20) train loss: 2.507814; val loss: 3.135951\n",
      "(Epoch 8 / 20) train loss: 2.375674; val loss: 3.122346\n",
      "(Epoch 9 / 20) train loss: 2.265806; val loss: 3.182874\n",
      "(Epoch 10 / 20) train loss: 2.177483; val loss: 3.172995\n",
      "(Epoch 11 / 20) train loss: 2.132544; val loss: 3.107441\n",
      "Stopping early at epoch 10!\n",
      "\n",
      "Evaluating Config #19 [of 20]:\n",
      " {'learning_rate': 0.0014112348412100334, 'reg': 0.0001744233792305856, 'std': 0.1, 'hidden_size': 150, 'loss_func': <exercise_code.networks.loss.CrossEntropyFromLogits object at 0x000001C60D0ED1C8>, 'activation': <exercise_code.networks.layer.Relu object at 0x000001C60D0ED248>}\n",
      "(Epoch 1 / 20) train loss: 7.540371; val loss: 7.154016\n",
      "(Epoch 2 / 20) train loss: 8.467263; val loss: 6.674098\n",
      "(Epoch 3 / 20) train loss: 4.649231; val loss: 5.824005\n",
      "(Epoch 4 / 20) train loss: 3.716259; val loss: 5.204566\n",
      "(Epoch 5 / 20) train loss: 2.695100; val loss: 5.561782\n",
      "(Epoch 6 / 20) train loss: 2.340015; val loss: 5.768727\n",
      "(Epoch 7 / 20) train loss: 2.188681; val loss: 5.601123\n",
      "(Epoch 8 / 20) train loss: 1.852916; val loss: 5.842775\n",
      "(Epoch 9 / 20) train loss: 1.673073; val loss: 6.126895\n",
      "Stopping early at epoch 8!\n",
      "\n",
      "Evaluating Config #20 [of 20]:\n",
      " {'learning_rate': 0.0011005185097869242, 'reg': 0.00010967224798178065, 'std': 0.05, 'hidden_size': 200, 'loss_func': <exercise_code.networks.loss.CrossEntropyFromLogits object at 0x000001C60D0ED1C8>, 'activation': <exercise_code.networks.layer.Sigmoid object at 0x000001C60D0ED288>}\n",
      "(Epoch 1 / 20) train loss: 2.554742; val loss: 2.554896\n",
      "(Epoch 2 / 20) train loss: 2.263719; val loss: 2.100601\n",
      "(Epoch 3 / 20) train loss: 1.993530; val loss: 2.048090\n",
      "(Epoch 4 / 20) train loss: 1.865243; val loss: 2.185273\n",
      "(Epoch 5 / 20) train loss: 1.762177; val loss: 2.137692\n",
      "(Epoch 6 / 20) train loss: 1.660562; val loss: 2.108567\n",
      "(Epoch 7 / 20) train loss: 1.574843; val loss: 2.053061\n",
      "(Epoch 8 / 20) train loss: 1.497876; val loss: 2.127991\n",
      "Stopping early at epoch 7!\n",
      "\n",
      "Search done. Best Val Loss = 2.048090091088601\n",
      "Best Config: {'learning_rate': 0.0011005185097869242, 'reg': 0.00010967224798178065, 'std': 0.05, 'hidden_size': 200, 'loss_func': <exercise_code.networks.loss.CrossEntropyFromLogits object at 0x000001C60D0ED1C8>, 'activation': <exercise_code.networks.layer.Sigmoid object at 0x000001C60D0ED288>}\n"
     ]
    }
   ],
   "source": [
    "from exercise_code.hyperparameter_tuning import random_search\n",
    "from exercise_code.networks import MyOwnNetwork\n",
    "\n",
    "# Specify the used network\n",
    "model_class = ClassificationNet\n",
    "\n",
    "best_model, results = random_search(\n",
    "    dataloaders['train_small'], dataloaders['val_500files'],\n",
    "    random_search_spaces = {\n",
    "        \"learning_rate\": ([9e-4, 2e-3], 'log'),\n",
    "        \"reg\": ([9e-5, 2e-4], \"log\"),\n",
    "        \"std\": ([0.05, 0.1, 0.2], \"item\"),\n",
    "        \"hidden_size\": ([100, 150, 200], \"item\"),\n",
    "        \"loss_func\": ([CrossEntropyFromLogits()], \"item\"),\n",
    "        \"activation\": ([Sigmoid(), Relu()], \"item\")\n",
    "    },\n",
    "    model_class=model_class,\n",
    "    num_search = 20, epochs=20, patience=5)"
   ]
  },
  {
   "cell_type": "markdown",
   "metadata": {},
   "source": [
    "If your implementation works, then it's time to run it with the whole dataset, and let it search for a few hours for a nice configuration. \n",
    "\n",
    "However, to save some time, let's first implement an **early-stopping** mechanism, that you also already know from the lecture."
   ]
  },
  {
   "cell_type": "markdown",
   "metadata": {},
   "source": [
    "## Early Stopping"
   ]
  },
  {
   "cell_type": "markdown",
   "metadata": {},
   "source": [
    "By now you've already seen a lot of training curves:\n",
    "\n",
    "<img src=http://fouryears.eu/wp-content/uploads/2017/12/early_stopping.png></img>\n",
    "\n",
    "Usually, at some point the validation loss goes up again, which is a sign that we're overfitting to our training data. Since it actually doesn't make any sense to train further at this point, it's common practice to apply \"early stopping\", i.e., cancel the training process when the validation loss doesn't improve anymore. The nice thing about this concept is, that not only it improves generalization through the prevention of overfitting, but also it saves us a lot of time - one of our most valuable resources in deep learning.\n",
    "\n",
    "Since there are natural fluctuations in the validation loss, you usually don't cancel the training process right at the first epoch when the validation-loss increases, but instead, you wait for some epochs (specified by the `patience`-parameter) and if the loss still doesn't improve, we stop.\n",
    "\n",
    "Now, take a look at the implement of early stopping mechanism in the `solver.py` file."
   ]
  },
  {
   "cell_type": "markdown",
   "metadata": {},
   "source": [
    "## Let's find the perfect model!"
   ]
  },
  {
   "cell_type": "markdown",
   "metadata": {},
   "source": [
    "You've now set everything up to start training your model and finding a nice set of hyper parameters using a combination of grid or random search!\n",
    "\n",
    "Since we'll now be training with a much larger number of samples, you should be aware that this process will definitely take some time! So be prepared to let your machine run for a while. \n",
    "\n",
    "At the beginning, it's a good approach to first do a coarse random search across a wide range of values to find promising sub-ranges of your parameter space. Afterwards, you can zoom in to these ranges and do another random search (or grid search) to finetune the configuration.\n",
    "\n",
    "You don't have to use the whole dataset at the beginning, instead you can also use a medium large subset of the samples. Also, you don't need to train for a large number of epochs - as mentioned above: we first want to get an overview about our hyper parameters.\n",
    "\n",
    "**Task: put in some reasonable ranges for the hyperparameters and evaluate them using random search!**\n",
    "\n",
    "Finally, once you've found some good hyper parameters, train on the whole dataset for a large number of epochs and make sure you use the full training data!"
   ]
  },
  {
   "cell_type": "code",
   "execution_count": 22,
   "metadata": {},
   "outputs": [
    {
     "name": "stdout",
     "output_type": "stream",
     "text": [
      "(Epoch 1 / 50) train loss: 50.186378; val loss: 50.506221\n",
      "(Epoch 2 / 50) train loss: 24.433439; val loss: 20.807151\n",
      "(Epoch 3 / 50) train loss: 18.454347; val loss: 17.233289\n",
      "(Epoch 4 / 50) train loss: 15.295519; val loss: 14.476657\n",
      "(Epoch 5 / 50) train loss: 12.762162; val loss: 12.141497\n",
      "(Epoch 6 / 50) train loss: 10.648278; val loss: 10.223624\n",
      "(Epoch 7 / 50) train loss: 8.845474; val loss: 8.490762\n",
      "(Epoch 8 / 50) train loss: 7.332714; val loss: 7.030906\n",
      "(Epoch 9 / 50) train loss: 6.079016; val loss: 5.876449\n",
      "(Epoch 10 / 50) train loss: 5.044581; val loss: 4.955265\n",
      "(Epoch 11 / 50) train loss: 4.213951; val loss: 4.206897\n",
      "(Epoch 12 / 50) train loss: 3.559389; val loss: 3.656548\n",
      "(Epoch 13 / 50) train loss: 3.034544; val loss: 3.172875\n",
      "(Epoch 14 / 50) train loss: 2.646266; val loss: 2.870910\n",
      "(Epoch 15 / 50) train loss: 2.344890; val loss: 2.602400\n",
      "(Epoch 16 / 50) train loss: 2.102490; val loss: 2.383821\n",
      "(Epoch 17 / 50) train loss: 1.916279; val loss: 2.236681\n",
      "(Epoch 18 / 50) train loss: 1.771546; val loss: 2.131980\n",
      "(Epoch 19 / 50) train loss: 1.662328; val loss: 2.024820\n",
      "(Epoch 20 / 50) train loss: 1.567207; val loss: 1.993403\n",
      "(Epoch 21 / 50) train loss: 1.487491; val loss: 1.918398\n",
      "(Epoch 22 / 50) train loss: 1.425581; val loss: 1.905639\n",
      "(Epoch 23 / 50) train loss: 1.371016; val loss: 1.833434\n",
      "(Epoch 24 / 50) train loss: 1.328206; val loss: 1.843652\n",
      "(Epoch 25 / 50) train loss: 1.282344; val loss: 1.788142\n",
      "(Epoch 26 / 50) train loss: 1.250995; val loss: 1.791265\n",
      "(Epoch 27 / 50) train loss: 1.214520; val loss: 1.815069\n",
      "(Epoch 28 / 50) train loss: 1.188130; val loss: 1.764938\n",
      "(Epoch 29 / 50) train loss: 1.158430; val loss: 1.777994\n",
      "(Epoch 30 / 50) train loss: 1.133637; val loss: 1.739464\n",
      "(Epoch 31 / 50) train loss: 1.109887; val loss: 1.736345\n",
      "(Epoch 32 / 50) train loss: 1.091777; val loss: 1.752759\n",
      "(Epoch 33 / 50) train loss: 1.071103; val loss: 1.736278\n",
      "(Epoch 34 / 50) train loss: 1.052001; val loss: 1.768692\n",
      "(Epoch 35 / 50) train loss: 1.035155; val loss: 1.737068\n",
      "(Epoch 36 / 50) train loss: 1.021330; val loss: 1.734686\n",
      "(Epoch 37 / 50) train loss: 1.003690; val loss: 1.744365\n",
      "(Epoch 38 / 50) train loss: 0.989349; val loss: 1.707612\n",
      "(Epoch 39 / 50) train loss: 0.975196; val loss: 1.736827\n",
      "(Epoch 40 / 50) train loss: 0.961680; val loss: 1.711584\n",
      "(Epoch 41 / 50) train loss: 0.951188; val loss: 1.744823\n",
      "(Epoch 42 / 50) train loss: 0.938437; val loss: 1.740337\n",
      "(Epoch 43 / 50) train loss: 0.927007; val loss: 1.770264\n",
      "(Epoch 44 / 50) train loss: 0.917187; val loss: 1.724833\n",
      "(Epoch 45 / 50) train loss: 0.907455; val loss: 1.718779\n",
      "(Epoch 46 / 50) train loss: 0.897551; val loss: 1.735723\n",
      "(Epoch 47 / 50) train loss: 0.889318; val loss: 1.729279\n",
      "(Epoch 48 / 50) train loss: 0.880401; val loss: 1.736595\n",
      "(Epoch 49 / 50) train loss: 0.872816; val loss: 1.725528\n",
      "(Epoch 50 / 50) train loss: 0.864655; val loss: 1.735375\n"
     ]
    }
   ],
   "source": [
    "from exercise_code.networks import MyOwnNetwork\n",
    "\n",
    "########################################################################\n",
    "# TODO:                                                                #\n",
    "# Implement your own neural network and find suitable hyperparameters  #\n",
    "# Be sure to edit the MyOwnNetwork class in the following code snippet #\n",
    "# to upload the correct model!                                         #\n",
    "########################################################################\n",
    "\n",
    "num_layer = 2\n",
    "hidden_size = 150 #100\n",
    "epochs = 50 #20 #10\n",
    "reg = 1e-3 #0.01 #0.1\n",
    "std = 0.2 #0.05 #0.1 #1e-3 \n",
    "lr = 1e-3 #5e-3 #2e-4\n",
    "lr_decay = 0.95 #1.0\n",
    "batch_size = 100\n",
    "act_func = Relu()\n",
    "loss = CrossEntropyFromLogits()\n",
    "\n",
    "best_model = ClassificationNet(activation=act_func, num_layer=num_layer, reg=reg, hidden_size=hidden_size, std=std)\n",
    "#best_model = MyOwnNetwork()\n",
    "\n",
    "solver = Solver(best_model, dataloaders['train'], dataloaders['val'], learning_rate=lr, loss_func=loss, optimizer=Adam, lr_decay=lr_decay)\n",
    "\n",
    "solver.train(epochs=epochs)\n",
    "\n",
    "########################################################################\n",
    "#                           END OF YOUR CODE                           #\n",
    "########################################################################"
   ]
  },
  {
   "cell_type": "markdown",
   "metadata": {},
   "source": [
    "Now it's time to edit the ranges above and adjust them to explore regions that performed well!\n",
    "\n",
    "Also, feel free to experiment around! Also the network architecture, optimizer options and activations functions, etc. are hyperparameters that you can change!\n",
    "\n",
    "Try to get your accuracy as high as possible! That's all what counts for this submission!\n",
    "\n",
    "You'll pass if you reach at least **48%** accuracy on our test set - but there will also be a leaderboard of all students of this course. Will you make it to the top?"
   ]
  },
  {
   "cell_type": "markdown",
   "metadata": {},
   "source": [
    "## Checking the validation accuracy"
   ]
  },
  {
   "cell_type": "code",
   "execution_count": 23,
   "metadata": {},
   "outputs": [
    {
     "name": "stdout",
     "output_type": "stream",
     "text": [
      "Train Accuracy: 83.63125%\n",
      "Validation Accuracy: 54.900000000000006%\n"
     ]
    }
   ],
   "source": [
    "labels, pred, acc = best_model.get_dataset_prediction(dataloaders['train'])\n",
    "print(\"Train Accuracy: {}%\".format(acc*100))\n",
    "labels, pred, acc = best_model.get_dataset_prediction(dataloaders['val'])\n",
    "print(\"Validation Accuracy: {}%\".format(acc*100))"
   ]
  },
  {
   "cell_type": "markdown",
   "metadata": {},
   "source": [
    "# Test your model\n",
    "When you have finished your hyperparameter tuning and are sure you have your final model that performs well on the validation set (**you should at least get 48% accuracy on the validation set!**), it's time to run your  model on the test set.\n",
    "\n",
    "<div class=\"alert alert-danger\">\n",
    "    <h3>Important</h3>\n",
    "    <p>As you have learned in the lecture, you must only use the test set one single time! So only run the next cell if you are really sure your model works well enough and that you want to submit. Your test set is different from the test set on our server, so results may vary. Nevertheless, you will have a reasonable close approximation about your performance if you only do a final evaluation on the test set.</p>\n",
    "    <p>If you are an external student that can't use our submission webpage: this test performance is your final result and if you surpassed the threshold, you have completed this exercise :). Now, train again to aim for a better number!</p>\n",
    "</div>"
   ]
  },
  {
   "cell_type": "code",
   "execution_count": 24,
   "metadata": {},
   "outputs": [
    {
     "name": "stdout",
     "output_type": "stream",
     "text": [
      "Test Accuracy: 54.1%\n"
     ]
    }
   ],
   "source": [
    "# comment this part out to see your model's performance on the test set.\n",
    "#'''\n",
    "labels, pred, acc = best_model.get_dataset_prediction(dataloaders['test'])\n",
    "print(\"Test Accuracy: {}%\".format(acc*100))\n",
    "#'''"
   ]
  },
  {
   "cell_type": "markdown",
   "metadata": {},
   "source": [
    "Note: The \"real\" test set is actually the dataset we're using for testing your model, which is **different** from the test-set you're using here. "
   ]
  },
  {
   "cell_type": "markdown",
   "metadata": {},
   "source": [
    "# Saving your Model"
   ]
  },
  {
   "cell_type": "code",
   "execution_count": 25,
   "metadata": {},
   "outputs": [],
   "source": [
    "from exercise_code.tests import save_pickle\n",
    "save_pickle({\"cifar_fcn\": best_model}, \"cifar_fcn.p\")"
   ]
  },
  {
   "cell_type": "markdown",
   "metadata": {},
   "source": [
    "# Submission Instructions\n",
    "\n",
    "Congratulations! You've just built your first image classifier! To complete the exercise, submit your final model to our submission portal - you probably know the procedure by now.\n",
    "\n",
    "1. Go on [our submission page](https://dvl.in.tum.de/teaching/submission/), register for an account and login. We use your matriculation number and send an email with the login details to the mail account associated. When in doubt, login into tum online and check your mails there. You will get an id which we need in the next step.\n",
    "2. Navigate to `exercise_code` directory and run the `create_submission.sh` file to create the zip file of your model. This will create a single `zip` file that you need to upload. Otherwise, you can also zip it manually if you don't want to use the bash script.\n",
    "3. Log into [our submission page](https://dvl.in.tum.de/teaching/submission/) with your account details and upload the `zip` file. Once successfully uploaded, you should be able to see the submitted \"dummy_model.p\" file selectable on the top.\n",
    "4. Click on this file and run the submission script. You will get an email with your score as well as a message if you have surpassed the threshold.\n",
    "\n",
    "# Submission Goals\n",
    "\n",
    "- Goal: Successfully implement a fully connected NN image classifier, tune hyperparameters.\n",
    "\n",
    "- Passing Criteria: This time, there are no unit tests that check specific components of your code. The only thing that's required to pass the submission, is your model to reach at least **48% accuracy** on __our__ test dataset. The submission system will show you a number between 0 and 100 which corresponds to your accuracy.\n",
    "\n",
    "- Submission start: __May 28, 2020 12.00__\n",
    "- Submission deadline : __June 03, 2020 23.59__ \n",
    "- You can make **$\\infty$** submissions until the deadline. Your __best submission__ will be considered for bonus"
   ]
  }
 ],
 "metadata": {
  "kernelspec": {
   "display_name": "Python 3",
   "language": "python",
   "name": "python3"
  },
  "language_info": {
   "codemirror_mode": {
    "name": "ipython",
    "version": 3
   },
   "file_extension": ".py",
   "mimetype": "text/x-python",
   "name": "python",
   "nbconvert_exporter": "python",
   "pygments_lexer": "ipython3",
   "version": "3.7.7"
  }
 },
 "nbformat": 4,
 "nbformat_minor": 1
}
